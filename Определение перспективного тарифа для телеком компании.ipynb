{
 "cells": [
  {
   "cell_type": "markdown",
   "metadata": {},
   "source": [
    "# Определение перспективного тарифа для телеком компании"
   ]
  },
  {
   "cell_type": "markdown",
   "metadata": {},
   "source": [
    "Компания «Мегалайн» — федерального оператора сотовой связи, предлагает клиентам два тарифных плана: «Смарт» и «Ультра». Чтобы скорректировать рекламный бюджет, коммерческий департамент хочет понять, какой тариф приносит больше денег.\n",
    "Предстоит сделать предварительный анализ тарифов на небольшой выборке клиентов. В распоряжении имеются данные 500 пользователей «Мегалайна»: кто они, откуда, каким тарифом пользуются, сколько звонков и сообщений каждый отправил за 2018 год. Нужно проанализировать поведение клиентов и сделать вывод — какой тариф лучше.\n",
    "\n",
    "Тариф «Смарт»\n",
    "\n",
    "    Ежемесячная плата: 550 рублей\n",
    "    Включено 500 минут разговора, 50 сообщений и 15 Гб интернет-трафика\n",
    "    Стоимость услуг сверх тарифного пакета: 1. минута разговора: 3 рубля ; 2. сообщение: 3 рубля; 3. 1 Гб интернет-трафика: 200 рублей.\n",
    "\n",
    "Тариф «Ультра»\n",
    "\n",
    "    Ежемесячная плата: 1950 рублей\n",
    "    Включено 3000 минут разговора, 1000 сообщений и 30 Гб интернет-трафика\n",
    "    Стоимость услуг сверх тарифного пакета: 1. минута разговора: 1 рубль; 2. сообщение: 1 рубль; 3. 1 Гб интернет-трафика: 150 рублей.\n",
    "\n",
    "Примечание:\n",
    "«Мегалайн» всегда округляет секунды до минут, а мегабайты — до гигабайт. Каждый звонок округляется отдельно: даже если он длился всего 1 секунду, будет засчитан как 1 минута.\n",
    "Для веб-трафика отдельные сессии не считаются. Вместо этого общая сумма за месяц округляется в бо́льшую сторону. Если абонент использует 1025 мегабайт в этом месяце, с него возьмут плату за 2 гигабайта."
   ]
  },
  {
   "cell_type": "markdown",
   "metadata": {},
   "source": [
    "## Шаг 1. Откроем файла с данными и изучим общую информацию"
   ]
  },
  {
   "cell_type": "code",
   "execution_count": 1,
   "metadata": {},
   "outputs": [],
   "source": [
    "import pandas as pd\n",
    "import math\n",
    "import numpy as np\n",
    "import matplotlib.pyplot as plt\n",
    "from scipy import stats as st\n",
    "pd.set_option('chained_assignment', None)\n",
    "pd.set_option('display.max_columns', None)"
   ]
  },
  {
   "cell_type": "code",
   "execution_count": 2,
   "metadata": {
    "scrolled": false
   },
   "outputs": [
    {
     "name": "stdout",
     "output_type": "stream",
     "text": [
      "<class 'pandas.core.frame.DataFrame'>\n",
      "RangeIndex: 202607 entries, 0 to 202606\n",
      "Data columns (total 4 columns):\n",
      " #   Column     Non-Null Count   Dtype  \n",
      "---  ------     --------------   -----  \n",
      " 0   id         202607 non-null  object \n",
      " 1   call_date  202607 non-null  object \n",
      " 2   duration   202607 non-null  float64\n",
      " 3   user_id    202607 non-null  int64  \n",
      "dtypes: float64(1), int64(1), object(2)\n",
      "memory usage: 6.2+ MB\n"
     ]
    },
    {
     "data": {
      "text/html": [
       "<div>\n",
       "<style scoped>\n",
       "    .dataframe tbody tr th:only-of-type {\n",
       "        vertical-align: middle;\n",
       "    }\n",
       "\n",
       "    .dataframe tbody tr th {\n",
       "        vertical-align: top;\n",
       "    }\n",
       "\n",
       "    .dataframe thead th {\n",
       "        text-align: right;\n",
       "    }\n",
       "</style>\n",
       "<table border=\"1\" class=\"dataframe\">\n",
       "  <thead>\n",
       "    <tr style=\"text-align: right;\">\n",
       "      <th></th>\n",
       "      <th>id</th>\n",
       "      <th>call_date</th>\n",
       "      <th>duration</th>\n",
       "      <th>user_id</th>\n",
       "    </tr>\n",
       "  </thead>\n",
       "  <tbody>\n",
       "    <tr>\n",
       "      <th>0</th>\n",
       "      <td>1000_0</td>\n",
       "      <td>2018-07-25</td>\n",
       "      <td>0.00</td>\n",
       "      <td>1000</td>\n",
       "    </tr>\n",
       "    <tr>\n",
       "      <th>1</th>\n",
       "      <td>1000_1</td>\n",
       "      <td>2018-08-17</td>\n",
       "      <td>0.00</td>\n",
       "      <td>1000</td>\n",
       "    </tr>\n",
       "    <tr>\n",
       "      <th>2</th>\n",
       "      <td>1000_2</td>\n",
       "      <td>2018-06-11</td>\n",
       "      <td>2.85</td>\n",
       "      <td>1000</td>\n",
       "    </tr>\n",
       "    <tr>\n",
       "      <th>3</th>\n",
       "      <td>1000_3</td>\n",
       "      <td>2018-09-21</td>\n",
       "      <td>13.80</td>\n",
       "      <td>1000</td>\n",
       "    </tr>\n",
       "    <tr>\n",
       "      <th>4</th>\n",
       "      <td>1000_4</td>\n",
       "      <td>2018-12-15</td>\n",
       "      <td>5.18</td>\n",
       "      <td>1000</td>\n",
       "    </tr>\n",
       "  </tbody>\n",
       "</table>\n",
       "</div>"
      ],
      "text/plain": [
       "       id   call_date  duration  user_id\n",
       "0  1000_0  2018-07-25      0.00     1000\n",
       "1  1000_1  2018-08-17      0.00     1000\n",
       "2  1000_2  2018-06-11      2.85     1000\n",
       "3  1000_3  2018-09-21     13.80     1000\n",
       "4  1000_4  2018-12-15      5.18     1000"
      ]
     },
     "metadata": {},
     "output_type": "display_data"
    },
    {
     "data": {
      "text/plain": [
       "Index(['id', 'call_date', 'duration', 'user_id'], dtype='object')"
      ]
     },
     "metadata": {},
     "output_type": "display_data"
    }
   ],
   "source": [
    "calls = pd.read_csv('C:\\\\Users\\\\admin\\\\Desktop\\\\DS_yandex\\\\03_Определение перспективного тарифа для телеком компании\\\\calls.csv')\n",
    "calls.info()\n",
    "display(calls.head(5))\n",
    "display(calls.columns)"
   ]
  },
  {
   "cell_type": "markdown",
   "metadata": {},
   "source": [
    "В датасете Calls пропуски отсутствуют. Замены типа данных требуют только данные столбца 'call_date'."
   ]
  },
  {
   "cell_type": "code",
   "execution_count": 3,
   "metadata": {
    "scrolled": false
   },
   "outputs": [
    {
     "name": "stdout",
     "output_type": "stream",
     "text": [
      "<class 'pandas.core.frame.DataFrame'>\n",
      "RangeIndex: 149396 entries, 0 to 149395\n",
      "Data columns (total 5 columns):\n",
      " #   Column        Non-Null Count   Dtype  \n",
      "---  ------        --------------   -----  \n",
      " 0   Unnamed: 0    149396 non-null  int64  \n",
      " 1   id            149396 non-null  object \n",
      " 2   mb_used       149396 non-null  float64\n",
      " 3   session_date  149396 non-null  object \n",
      " 4   user_id       149396 non-null  int64  \n",
      "dtypes: float64(1), int64(2), object(2)\n",
      "memory usage: 5.7+ MB\n"
     ]
    },
    {
     "data": {
      "text/html": [
       "<div>\n",
       "<style scoped>\n",
       "    .dataframe tbody tr th:only-of-type {\n",
       "        vertical-align: middle;\n",
       "    }\n",
       "\n",
       "    .dataframe tbody tr th {\n",
       "        vertical-align: top;\n",
       "    }\n",
       "\n",
       "    .dataframe thead th {\n",
       "        text-align: right;\n",
       "    }\n",
       "</style>\n",
       "<table border=\"1\" class=\"dataframe\">\n",
       "  <thead>\n",
       "    <tr style=\"text-align: right;\">\n",
       "      <th></th>\n",
       "      <th>Unnamed: 0</th>\n",
       "      <th>id</th>\n",
       "      <th>mb_used</th>\n",
       "      <th>session_date</th>\n",
       "      <th>user_id</th>\n",
       "    </tr>\n",
       "  </thead>\n",
       "  <tbody>\n",
       "    <tr>\n",
       "      <th>149391</th>\n",
       "      <td>149391</td>\n",
       "      <td>1499_152</td>\n",
       "      <td>318.90</td>\n",
       "      <td>2018-10-03</td>\n",
       "      <td>1499</td>\n",
       "    </tr>\n",
       "    <tr>\n",
       "      <th>149392</th>\n",
       "      <td>149392</td>\n",
       "      <td>1499_153</td>\n",
       "      <td>490.13</td>\n",
       "      <td>2018-12-14</td>\n",
       "      <td>1499</td>\n",
       "    </tr>\n",
       "    <tr>\n",
       "      <th>149393</th>\n",
       "      <td>149393</td>\n",
       "      <td>1499_154</td>\n",
       "      <td>0.00</td>\n",
       "      <td>2018-10-27</td>\n",
       "      <td>1499</td>\n",
       "    </tr>\n",
       "    <tr>\n",
       "      <th>149394</th>\n",
       "      <td>149394</td>\n",
       "      <td>1499_155</td>\n",
       "      <td>1246.32</td>\n",
       "      <td>2018-11-26</td>\n",
       "      <td>1499</td>\n",
       "    </tr>\n",
       "    <tr>\n",
       "      <th>149395</th>\n",
       "      <td>149395</td>\n",
       "      <td>1499_156</td>\n",
       "      <td>544.37</td>\n",
       "      <td>2018-10-26</td>\n",
       "      <td>1499</td>\n",
       "    </tr>\n",
       "  </tbody>\n",
       "</table>\n",
       "</div>"
      ],
      "text/plain": [
       "        Unnamed: 0        id  mb_used session_date  user_id\n",
       "149391      149391  1499_152   318.90   2018-10-03     1499\n",
       "149392      149392  1499_153   490.13   2018-12-14     1499\n",
       "149393      149393  1499_154     0.00   2018-10-27     1499\n",
       "149394      149394  1499_155  1246.32   2018-11-26     1499\n",
       "149395      149395  1499_156   544.37   2018-10-26     1499"
      ]
     },
     "metadata": {},
     "output_type": "display_data"
    },
    {
     "data": {
      "text/plain": [
       "Index(['Unnamed: 0', 'id', 'mb_used', 'session_date', 'user_id'], dtype='object')"
      ]
     },
     "metadata": {},
     "output_type": "display_data"
    }
   ],
   "source": [
    "internet = pd.read_csv('C:\\\\Users\\\\admin\\\\Desktop\\\\DS_yandex\\\\03_Определение перспективного тарифа для телеком компании\\\\internet.csv')\n",
    "internet.info()\n",
    "display(internet.tail(5))\n",
    "display(internet.columns)"
   ]
  },
  {
   "cell_type": "markdown",
   "metadata": {},
   "source": [
    "В датасете internet пропуски отсутствуют. Имеется лишний столбец 'Unnamed: 0', который дублирует значения индекса. Столбец 'session_date' нужно перевести в формат даты."
   ]
  },
  {
   "cell_type": "code",
   "execution_count": 4,
   "metadata": {
    "scrolled": false
   },
   "outputs": [
    {
     "name": "stdout",
     "output_type": "stream",
     "text": [
      "<class 'pandas.core.frame.DataFrame'>\n",
      "RangeIndex: 123036 entries, 0 to 123035\n",
      "Data columns (total 3 columns):\n",
      " #   Column        Non-Null Count   Dtype \n",
      "---  ------        --------------   ----- \n",
      " 0   id            123036 non-null  object\n",
      " 1   message_date  123036 non-null  object\n",
      " 2   user_id       123036 non-null  int64 \n",
      "dtypes: int64(1), object(2)\n",
      "memory usage: 2.8+ MB\n"
     ]
    },
    {
     "data": {
      "text/html": [
       "<div>\n",
       "<style scoped>\n",
       "    .dataframe tbody tr th:only-of-type {\n",
       "        vertical-align: middle;\n",
       "    }\n",
       "\n",
       "    .dataframe tbody tr th {\n",
       "        vertical-align: top;\n",
       "    }\n",
       "\n",
       "    .dataframe thead th {\n",
       "        text-align: right;\n",
       "    }\n",
       "</style>\n",
       "<table border=\"1\" class=\"dataframe\">\n",
       "  <thead>\n",
       "    <tr style=\"text-align: right;\">\n",
       "      <th></th>\n",
       "      <th>id</th>\n",
       "      <th>message_date</th>\n",
       "      <th>user_id</th>\n",
       "    </tr>\n",
       "  </thead>\n",
       "  <tbody>\n",
       "    <tr>\n",
       "      <th>0</th>\n",
       "      <td>1000_0</td>\n",
       "      <td>2018-06-27</td>\n",
       "      <td>1000</td>\n",
       "    </tr>\n",
       "    <tr>\n",
       "      <th>1</th>\n",
       "      <td>1000_1</td>\n",
       "      <td>2018-10-08</td>\n",
       "      <td>1000</td>\n",
       "    </tr>\n",
       "    <tr>\n",
       "      <th>2</th>\n",
       "      <td>1000_2</td>\n",
       "      <td>2018-08-04</td>\n",
       "      <td>1000</td>\n",
       "    </tr>\n",
       "    <tr>\n",
       "      <th>3</th>\n",
       "      <td>1000_3</td>\n",
       "      <td>2018-06-16</td>\n",
       "      <td>1000</td>\n",
       "    </tr>\n",
       "    <tr>\n",
       "      <th>4</th>\n",
       "      <td>1000_4</td>\n",
       "      <td>2018-12-05</td>\n",
       "      <td>1000</td>\n",
       "    </tr>\n",
       "  </tbody>\n",
       "</table>\n",
       "</div>"
      ],
      "text/plain": [
       "       id message_date  user_id\n",
       "0  1000_0   2018-06-27     1000\n",
       "1  1000_1   2018-10-08     1000\n",
       "2  1000_2   2018-08-04     1000\n",
       "3  1000_3   2018-06-16     1000\n",
       "4  1000_4   2018-12-05     1000"
      ]
     },
     "metadata": {},
     "output_type": "display_data"
    },
    {
     "data": {
      "text/plain": [
       "Index(['id', 'message_date', 'user_id'], dtype='object')"
      ]
     },
     "metadata": {},
     "output_type": "display_data"
    }
   ],
   "source": [
    "messages = pd.read_csv('C:\\\\Users\\\\admin\\\\Desktop\\\\DS_yandex\\\\03_Определение перспективного тарифа для телеком компании\\\\messages.csv')\n",
    "messages.info()\n",
    "display(messages.head(5))\n",
    "display(messages.columns)"
   ]
  },
  {
   "cell_type": "markdown",
   "metadata": {},
   "source": [
    "В датасете messages пропуски отсутствуют. Смены формата данных требует только столбец 'message_date'."
   ]
  },
  {
   "cell_type": "code",
   "execution_count": 5,
   "metadata": {},
   "outputs": [
    {
     "name": "stdout",
     "output_type": "stream",
     "text": [
      "<class 'pandas.core.frame.DataFrame'>\n",
      "RangeIndex: 2 entries, 0 to 1\n",
      "Data columns (total 8 columns):\n",
      " #   Column                 Non-Null Count  Dtype \n",
      "---  ------                 --------------  ----- \n",
      " 0   messages_included      2 non-null      int64 \n",
      " 1   mb_per_month_included  2 non-null      int64 \n",
      " 2   minutes_included       2 non-null      int64 \n",
      " 3   rub_monthly_fee        2 non-null      int64 \n",
      " 4   rub_per_gb             2 non-null      int64 \n",
      " 5   rub_per_message        2 non-null      int64 \n",
      " 6   rub_per_minute         2 non-null      int64 \n",
      " 7   tariff_name            2 non-null      object\n",
      "dtypes: int64(7), object(1)\n",
      "memory usage: 256.0+ bytes\n"
     ]
    },
    {
     "data": {
      "text/html": [
       "<div>\n",
       "<style scoped>\n",
       "    .dataframe tbody tr th:only-of-type {\n",
       "        vertical-align: middle;\n",
       "    }\n",
       "\n",
       "    .dataframe tbody tr th {\n",
       "        vertical-align: top;\n",
       "    }\n",
       "\n",
       "    .dataframe thead th {\n",
       "        text-align: right;\n",
       "    }\n",
       "</style>\n",
       "<table border=\"1\" class=\"dataframe\">\n",
       "  <thead>\n",
       "    <tr style=\"text-align: right;\">\n",
       "      <th></th>\n",
       "      <th>messages_included</th>\n",
       "      <th>mb_per_month_included</th>\n",
       "      <th>minutes_included</th>\n",
       "      <th>rub_monthly_fee</th>\n",
       "      <th>rub_per_gb</th>\n",
       "      <th>rub_per_message</th>\n",
       "      <th>rub_per_minute</th>\n",
       "      <th>tariff_name</th>\n",
       "    </tr>\n",
       "  </thead>\n",
       "  <tbody>\n",
       "    <tr>\n",
       "      <th>0</th>\n",
       "      <td>50</td>\n",
       "      <td>15360</td>\n",
       "      <td>500</td>\n",
       "      <td>550</td>\n",
       "      <td>200</td>\n",
       "      <td>3</td>\n",
       "      <td>3</td>\n",
       "      <td>smart</td>\n",
       "    </tr>\n",
       "    <tr>\n",
       "      <th>1</th>\n",
       "      <td>1000</td>\n",
       "      <td>30720</td>\n",
       "      <td>3000</td>\n",
       "      <td>1950</td>\n",
       "      <td>150</td>\n",
       "      <td>1</td>\n",
       "      <td>1</td>\n",
       "      <td>ultra</td>\n",
       "    </tr>\n",
       "  </tbody>\n",
       "</table>\n",
       "</div>"
      ],
      "text/plain": [
       "   messages_included  mb_per_month_included  minutes_included  \\\n",
       "0                 50                  15360               500   \n",
       "1               1000                  30720              3000   \n",
       "\n",
       "   rub_monthly_fee  rub_per_gb  rub_per_message  rub_per_minute tariff_name  \n",
       "0              550         200                3               3       smart  \n",
       "1             1950         150                1               1       ultra  "
      ]
     },
     "metadata": {},
     "output_type": "display_data"
    },
    {
     "data": {
      "text/plain": [
       "Index(['messages_included', 'mb_per_month_included', 'minutes_included',\n",
       "       'rub_monthly_fee', 'rub_per_gb', 'rub_per_message', 'rub_per_minute',\n",
       "       'tariff_name'],\n",
       "      dtype='object')"
      ]
     },
     "metadata": {},
     "output_type": "display_data"
    }
   ],
   "source": [
    "tariffs = pd.read_csv('C:\\\\Users\\\\admin\\\\Desktop\\\\DS_yandex\\\\03_Определение перспективного тарифа для телеком компании\\\\tariffs.csv')\n",
    "tariffs.info()\n",
    "display(tariffs)\n",
    "display(tariffs.columns)"
   ]
  },
  {
   "cell_type": "markdown",
   "metadata": {},
   "source": [
    "В датасете tariffs пропусков нет. Данные, требующие предварительной обработки отсутствуют."
   ]
  },
  {
   "cell_type": "code",
   "execution_count": 6,
   "metadata": {},
   "outputs": [
    {
     "name": "stdout",
     "output_type": "stream",
     "text": [
      "<class 'pandas.core.frame.DataFrame'>\n",
      "RangeIndex: 500 entries, 0 to 499\n",
      "Data columns (total 8 columns):\n",
      " #   Column      Non-Null Count  Dtype \n",
      "---  ------      --------------  ----- \n",
      " 0   user_id     500 non-null    int64 \n",
      " 1   age         500 non-null    int64 \n",
      " 2   churn_date  38 non-null     object\n",
      " 3   city        500 non-null    object\n",
      " 4   first_name  500 non-null    object\n",
      " 5   last_name   500 non-null    object\n",
      " 6   reg_date    500 non-null    object\n",
      " 7   tariff      500 non-null    object\n",
      "dtypes: int64(2), object(6)\n",
      "memory usage: 31.4+ KB\n"
     ]
    },
    {
     "data": {
      "text/html": [
       "<div>\n",
       "<style scoped>\n",
       "    .dataframe tbody tr th:only-of-type {\n",
       "        vertical-align: middle;\n",
       "    }\n",
       "\n",
       "    .dataframe tbody tr th {\n",
       "        vertical-align: top;\n",
       "    }\n",
       "\n",
       "    .dataframe thead th {\n",
       "        text-align: right;\n",
       "    }\n",
       "</style>\n",
       "<table border=\"1\" class=\"dataframe\">\n",
       "  <thead>\n",
       "    <tr style=\"text-align: right;\">\n",
       "      <th></th>\n",
       "      <th>user_id</th>\n",
       "      <th>age</th>\n",
       "      <th>churn_date</th>\n",
       "      <th>city</th>\n",
       "      <th>first_name</th>\n",
       "      <th>last_name</th>\n",
       "      <th>reg_date</th>\n",
       "      <th>tariff</th>\n",
       "    </tr>\n",
       "  </thead>\n",
       "  <tbody>\n",
       "    <tr>\n",
       "      <th>0</th>\n",
       "      <td>1000</td>\n",
       "      <td>52</td>\n",
       "      <td>NaN</td>\n",
       "      <td>Краснодар</td>\n",
       "      <td>Рафаил</td>\n",
       "      <td>Верещагин</td>\n",
       "      <td>2018-05-25</td>\n",
       "      <td>ultra</td>\n",
       "    </tr>\n",
       "    <tr>\n",
       "      <th>1</th>\n",
       "      <td>1001</td>\n",
       "      <td>41</td>\n",
       "      <td>NaN</td>\n",
       "      <td>Москва</td>\n",
       "      <td>Иван</td>\n",
       "      <td>Ежов</td>\n",
       "      <td>2018-11-01</td>\n",
       "      <td>smart</td>\n",
       "    </tr>\n",
       "    <tr>\n",
       "      <th>2</th>\n",
       "      <td>1002</td>\n",
       "      <td>59</td>\n",
       "      <td>NaN</td>\n",
       "      <td>Стерлитамак</td>\n",
       "      <td>Евгений</td>\n",
       "      <td>Абрамович</td>\n",
       "      <td>2018-06-17</td>\n",
       "      <td>smart</td>\n",
       "    </tr>\n",
       "    <tr>\n",
       "      <th>3</th>\n",
       "      <td>1003</td>\n",
       "      <td>23</td>\n",
       "      <td>NaN</td>\n",
       "      <td>Москва</td>\n",
       "      <td>Белла</td>\n",
       "      <td>Белякова</td>\n",
       "      <td>2018-08-17</td>\n",
       "      <td>ultra</td>\n",
       "    </tr>\n",
       "    <tr>\n",
       "      <th>4</th>\n",
       "      <td>1004</td>\n",
       "      <td>68</td>\n",
       "      <td>NaN</td>\n",
       "      <td>Новокузнецк</td>\n",
       "      <td>Татьяна</td>\n",
       "      <td>Авдеенко</td>\n",
       "      <td>2018-05-14</td>\n",
       "      <td>ultra</td>\n",
       "    </tr>\n",
       "  </tbody>\n",
       "</table>\n",
       "</div>"
      ],
      "text/plain": [
       "   user_id  age churn_date         city first_name  last_name    reg_date  \\\n",
       "0     1000   52        NaN    Краснодар     Рафаил  Верещагин  2018-05-25   \n",
       "1     1001   41        NaN       Москва       Иван       Ежов  2018-11-01   \n",
       "2     1002   59        NaN  Стерлитамак    Евгений  Абрамович  2018-06-17   \n",
       "3     1003   23        NaN       Москва      Белла   Белякова  2018-08-17   \n",
       "4     1004   68        NaN  Новокузнецк    Татьяна   Авдеенко  2018-05-14   \n",
       "\n",
       "  tariff  \n",
       "0  ultra  \n",
       "1  smart  \n",
       "2  smart  \n",
       "3  ultra  \n",
       "4  ultra  "
      ]
     },
     "metadata": {},
     "output_type": "display_data"
    },
    {
     "data": {
      "text/plain": [
       "Index(['user_id', 'age', 'churn_date', 'city', 'first_name', 'last_name',\n",
       "       'reg_date', 'tariff'],\n",
       "      dtype='object')"
      ]
     },
     "metadata": {},
     "output_type": "display_data"
    },
    {
     "data": {
      "text/plain": [
       "18"
      ]
     },
     "metadata": {},
     "output_type": "display_data"
    },
    {
     "data": {
      "text/plain": [
       "75"
      ]
     },
     "metadata": {},
     "output_type": "display_data"
    },
    {
     "data": {
      "text/plain": [
       "array(['ultra', 'smart'], dtype=object)"
      ]
     },
     "execution_count": 6,
     "metadata": {},
     "output_type": "execute_result"
    }
   ],
   "source": [
    "users = pd.read_csv('C:\\\\Users\\\\admin\\\\Desktop\\\\DS_yandex\\\\03_Определение перспективного тарифа для телеком компании\\\\users.csv')\n",
    "users.info()\n",
    "display(users.head(5))\n",
    "display(users.columns)\n",
    "users['city'].unique()\n",
    "display(users['age'].min(), users['age'].max())\n",
    "users['tariff'].unique()"
   ]
  },
  {
   "cell_type": "markdown",
   "metadata": {},
   "source": [
    "В датасете пропуски есть только в столбце 'churn_date'. Они объясняются тем, что пользователь всё еще пользуется тарифом. Столбец 'reg_date' необходимо перевести в формат даты."
   ]
  },
  {
   "cell_type": "markdown",
   "metadata": {},
   "source": [
    "## Шаг 2. Подготовим данные"
   ]
  },
  {
   "cell_type": "markdown",
   "metadata": {},
   "source": [
    "### Приведение данных к нужным типам"
   ]
  },
  {
   "cell_type": "code",
   "execution_count": 7,
   "metadata": {},
   "outputs": [],
   "source": [
    "# Перевод данных в формат даты\n",
    "def todate(d): \n",
    "    if d != 'NaN':\n",
    "        return pd.to_datetime(d, format = '%Y-%m-%d')\n",
    "    else:\n",
    "        return d"
   ]
  },
  {
   "cell_type": "code",
   "execution_count": 8,
   "metadata": {},
   "outputs": [],
   "source": [
    "calls['call_date'] = calls['call_date'].apply(todate)\n",
    "internet['session_date'] = internet['session_date'].apply(todate)\n",
    "messages['message_date'] = messages['message_date'].apply(todate)\n",
    "users['reg_date'] = users['reg_date'].apply(todate)\n",
    "users['churn_date'] = users['churn_date'].apply(todate)"
   ]
  },
  {
   "cell_type": "markdown",
   "metadata": {},
   "source": [
    "### Исправление ошибок в данных"
   ]
  },
  {
   "cell_type": "code",
   "execution_count": 9,
   "metadata": {},
   "outputs": [
    {
     "name": "stdout",
     "output_type": "stream",
     "text": [
      "<class 'pandas.core.frame.DataFrame'>\n",
      "RangeIndex: 149396 entries, 0 to 149395\n",
      "Data columns (total 4 columns):\n",
      " #   Column        Non-Null Count   Dtype         \n",
      "---  ------        --------------   -----         \n",
      " 0   id            149396 non-null  object        \n",
      " 1   mb_used       149396 non-null  float64       \n",
      " 2   session_date  149396 non-null  datetime64[ns]\n",
      " 3   user_id       149396 non-null  int64         \n",
      "dtypes: datetime64[ns](1), float64(1), int64(1), object(1)\n",
      "memory usage: 4.6+ MB\n"
     ]
    }
   ],
   "source": [
    "del internet['Unnamed: 0'] \n",
    "internet.info()"
   ]
  },
  {
   "cell_type": "markdown",
   "metadata": {},
   "source": [
    "Был удален лишний столбец датафрейма internet, который дублировал значения индекса."
   ]
  },
  {
   "cell_type": "markdown",
   "metadata": {},
   "source": [
    "### Подсчет для каждого пользователя:"
   ]
  },
  {
   "cell_type": "markdown",
   "metadata": {},
   "source": [
    "#### - количество сделанных звонков и израсходованных минут разговора по месяцам"
   ]
  },
  {
   "cell_type": "code",
   "execution_count": 10,
   "metadata": {},
   "outputs": [
    {
     "data": {
      "text/html": [
       "<div>\n",
       "<style scoped>\n",
       "    .dataframe tbody tr th:only-of-type {\n",
       "        vertical-align: middle;\n",
       "    }\n",
       "\n",
       "    .dataframe tbody tr th {\n",
       "        vertical-align: top;\n",
       "    }\n",
       "\n",
       "    .dataframe thead th {\n",
       "        text-align: right;\n",
       "    }\n",
       "</style>\n",
       "<table border=\"1\" class=\"dataframe\">\n",
       "  <thead>\n",
       "    <tr style=\"text-align: right;\">\n",
       "      <th></th>\n",
       "      <th>user_id</th>\n",
       "      <th>month</th>\n",
       "      <th>call_duration</th>\n",
       "      <th>number_of_calls_per_month</th>\n",
       "    </tr>\n",
       "  </thead>\n",
       "  <tbody>\n",
       "    <tr>\n",
       "      <th>0</th>\n",
       "      <td>1000</td>\n",
       "      <td>5</td>\n",
       "      <td>159</td>\n",
       "      <td>17</td>\n",
       "    </tr>\n",
       "    <tr>\n",
       "      <th>1</th>\n",
       "      <td>1000</td>\n",
       "      <td>6</td>\n",
       "      <td>172</td>\n",
       "      <td>28</td>\n",
       "    </tr>\n",
       "    <tr>\n",
       "      <th>2</th>\n",
       "      <td>1000</td>\n",
       "      <td>7</td>\n",
       "      <td>340</td>\n",
       "      <td>41</td>\n",
       "    </tr>\n",
       "    <tr>\n",
       "      <th>3</th>\n",
       "      <td>1000</td>\n",
       "      <td>8</td>\n",
       "      <td>408</td>\n",
       "      <td>42</td>\n",
       "    </tr>\n",
       "    <tr>\n",
       "      <th>4</th>\n",
       "      <td>1000</td>\n",
       "      <td>9</td>\n",
       "      <td>466</td>\n",
       "      <td>46</td>\n",
       "    </tr>\n",
       "  </tbody>\n",
       "</table>\n",
       "</div>"
      ],
      "text/plain": [
       "   user_id  month  call_duration  number_of_calls_per_month\n",
       "0     1000      5            159                         17\n",
       "1     1000      6            172                         28\n",
       "2     1000      7            340                         41\n",
       "3     1000      8            408                         42\n",
       "4     1000      9            466                         46"
      ]
     },
     "execution_count": 10,
     "metadata": {},
     "output_type": "execute_result"
    }
   ],
   "source": [
    "calls['month'] = pd.DatetimeIndex(calls['call_date']).month\n",
    "calls['duration_rounded'] = calls['duration'].apply(math.ceil)\n",
    "calls_gr = calls.query('duration_rounded != 0').groupby(['user_id', 'month'])['duration_rounded']\\\n",
    ".agg(['sum','count']).reset_index()\n",
    "calls_gr.set_axis(['user_id', 'month', 'call_duration', 'number_of_calls_per_month'], axis = 'columns', inplace = True)\n",
    "calls_gr.head()"
   ]
  },
  {
   "cell_type": "markdown",
   "metadata": {},
   "source": [
    "#### - количество отправленных сообщений по месяцам"
   ]
  },
  {
   "cell_type": "code",
   "execution_count": 11,
   "metadata": {
    "scrolled": false
   },
   "outputs": [
    {
     "data": {
      "text/html": [
       "<div>\n",
       "<style scoped>\n",
       "    .dataframe tbody tr th:only-of-type {\n",
       "        vertical-align: middle;\n",
       "    }\n",
       "\n",
       "    .dataframe tbody tr th {\n",
       "        vertical-align: top;\n",
       "    }\n",
       "\n",
       "    .dataframe thead th {\n",
       "        text-align: right;\n",
       "    }\n",
       "</style>\n",
       "<table border=\"1\" class=\"dataframe\">\n",
       "  <thead>\n",
       "    <tr style=\"text-align: right;\">\n",
       "      <th></th>\n",
       "      <th>user_id</th>\n",
       "      <th>month</th>\n",
       "      <th>number_of_messages_per_month</th>\n",
       "    </tr>\n",
       "  </thead>\n",
       "  <tbody>\n",
       "    <tr>\n",
       "      <th>0</th>\n",
       "      <td>1000</td>\n",
       "      <td>5</td>\n",
       "      <td>22</td>\n",
       "    </tr>\n",
       "    <tr>\n",
       "      <th>1</th>\n",
       "      <td>1000</td>\n",
       "      <td>6</td>\n",
       "      <td>60</td>\n",
       "    </tr>\n",
       "    <tr>\n",
       "      <th>2</th>\n",
       "      <td>1000</td>\n",
       "      <td>7</td>\n",
       "      <td>75</td>\n",
       "    </tr>\n",
       "    <tr>\n",
       "      <th>3</th>\n",
       "      <td>1000</td>\n",
       "      <td>8</td>\n",
       "      <td>81</td>\n",
       "    </tr>\n",
       "    <tr>\n",
       "      <th>4</th>\n",
       "      <td>1000</td>\n",
       "      <td>9</td>\n",
       "      <td>57</td>\n",
       "    </tr>\n",
       "  </tbody>\n",
       "</table>\n",
       "</div>"
      ],
      "text/plain": [
       "   user_id  month  number_of_messages_per_month\n",
       "0     1000      5                            22\n",
       "1     1000      6                            60\n",
       "2     1000      7                            75\n",
       "3     1000      8                            81\n",
       "4     1000      9                            57"
      ]
     },
     "execution_count": 11,
     "metadata": {},
     "output_type": "execute_result"
    }
   ],
   "source": [
    "messages['month'] = pd.DatetimeIndex(messages['message_date']).month\n",
    "messages_gr = messages.groupby(['user_id', 'month'])['message_date'].count().reset_index()\n",
    "messages_gr.set_axis(['user_id', 'month', 'number_of_messages_per_month'], axis = 'columns', inplace = True)\n",
    "messages_gr.head()"
   ]
  },
  {
   "cell_type": "markdown",
   "metadata": {},
   "source": [
    "#### - объем израсходованного интернет-трафика по месяцам"
   ]
  },
  {
   "cell_type": "code",
   "execution_count": 12,
   "metadata": {
    "scrolled": false
   },
   "outputs": [
    {
     "data": {
      "text/html": [
       "<div>\n",
       "<style scoped>\n",
       "    .dataframe tbody tr th:only-of-type {\n",
       "        vertical-align: middle;\n",
       "    }\n",
       "\n",
       "    .dataframe tbody tr th {\n",
       "        vertical-align: top;\n",
       "    }\n",
       "\n",
       "    .dataframe thead th {\n",
       "        text-align: right;\n",
       "    }\n",
       "</style>\n",
       "<table border=\"1\" class=\"dataframe\">\n",
       "  <thead>\n",
       "    <tr style=\"text-align: right;\">\n",
       "      <th></th>\n",
       "      <th>user_id</th>\n",
       "      <th>month</th>\n",
       "      <th>mb_used_per_month</th>\n",
       "      <th>gb_used_per_month</th>\n",
       "    </tr>\n",
       "  </thead>\n",
       "  <tbody>\n",
       "    <tr>\n",
       "      <th>0</th>\n",
       "      <td>1000</td>\n",
       "      <td>5</td>\n",
       "      <td>2253.49</td>\n",
       "      <td>3.0</td>\n",
       "    </tr>\n",
       "    <tr>\n",
       "      <th>1</th>\n",
       "      <td>1000</td>\n",
       "      <td>6</td>\n",
       "      <td>23233.77</td>\n",
       "      <td>23.0</td>\n",
       "    </tr>\n",
       "    <tr>\n",
       "      <th>2</th>\n",
       "      <td>1000</td>\n",
       "      <td>7</td>\n",
       "      <td>14003.64</td>\n",
       "      <td>14.0</td>\n",
       "    </tr>\n",
       "    <tr>\n",
       "      <th>3</th>\n",
       "      <td>1000</td>\n",
       "      <td>8</td>\n",
       "      <td>14055.93</td>\n",
       "      <td>14.0</td>\n",
       "    </tr>\n",
       "    <tr>\n",
       "      <th>4</th>\n",
       "      <td>1000</td>\n",
       "      <td>9</td>\n",
       "      <td>14568.91</td>\n",
       "      <td>15.0</td>\n",
       "    </tr>\n",
       "  </tbody>\n",
       "</table>\n",
       "</div>"
      ],
      "text/plain": [
       "   user_id  month  mb_used_per_month  gb_used_per_month\n",
       "0     1000      5            2253.49                3.0\n",
       "1     1000      6           23233.77               23.0\n",
       "2     1000      7           14003.64               14.0\n",
       "3     1000      8           14055.93               14.0\n",
       "4     1000      9           14568.91               15.0"
      ]
     },
     "execution_count": 12,
     "metadata": {},
     "output_type": "execute_result"
    }
   ],
   "source": [
    "internet['month'] = pd.DatetimeIndex(internet['session_date']).month\n",
    "internet_gr = internet.groupby(['user_id', 'month'])['mb_used'].sum().reset_index()\n",
    "internet_gr.set_axis(['user_id', 'month', 'mb_used_per_month'], axis = 'columns', inplace = True)\n",
    "internet_gr['gb_used_per_month'] = np.ceil(internet_gr['mb_used_per_month']/1024)\n",
    "internet_gr.head()"
   ]
  },
  {
   "cell_type": "markdown",
   "metadata": {},
   "source": [
    "#### - помесячная выручка с каждого пользователя"
   ]
  },
  {
   "cell_type": "code",
   "execution_count": 13,
   "metadata": {},
   "outputs": [
    {
     "data": {
      "text/html": [
       "<div>\n",
       "<style scoped>\n",
       "    .dataframe tbody tr th:only-of-type {\n",
       "        vertical-align: middle;\n",
       "    }\n",
       "\n",
       "    .dataframe tbody tr th {\n",
       "        vertical-align: top;\n",
       "    }\n",
       "\n",
       "    .dataframe thead th {\n",
       "        text-align: right;\n",
       "    }\n",
       "</style>\n",
       "<table border=\"1\" class=\"dataframe\">\n",
       "  <thead>\n",
       "    <tr style=\"text-align: right;\">\n",
       "      <th></th>\n",
       "      <th>user_id</th>\n",
       "      <th>month</th>\n",
       "      <th>call_duration</th>\n",
       "      <th>number_of_calls_per_month</th>\n",
       "      <th>number_of_messages_per_month</th>\n",
       "      <th>mb_used_per_month</th>\n",
       "      <th>gb_used_per_month</th>\n",
       "      <th>tariff</th>\n",
       "      <th>city</th>\n",
       "    </tr>\n",
       "  </thead>\n",
       "  <tbody>\n",
       "    <tr>\n",
       "      <th>0</th>\n",
       "      <td>1000</td>\n",
       "      <td>5</td>\n",
       "      <td>159</td>\n",
       "      <td>17</td>\n",
       "      <td>22</td>\n",
       "      <td>2253</td>\n",
       "      <td>3</td>\n",
       "      <td>ultra</td>\n",
       "      <td>Краснодар</td>\n",
       "    </tr>\n",
       "    <tr>\n",
       "      <th>1</th>\n",
       "      <td>1000</td>\n",
       "      <td>6</td>\n",
       "      <td>172</td>\n",
       "      <td>28</td>\n",
       "      <td>60</td>\n",
       "      <td>23233</td>\n",
       "      <td>23</td>\n",
       "      <td>ultra</td>\n",
       "      <td>Краснодар</td>\n",
       "    </tr>\n",
       "    <tr>\n",
       "      <th>2</th>\n",
       "      <td>1000</td>\n",
       "      <td>7</td>\n",
       "      <td>340</td>\n",
       "      <td>41</td>\n",
       "      <td>75</td>\n",
       "      <td>14003</td>\n",
       "      <td>14</td>\n",
       "      <td>ultra</td>\n",
       "      <td>Краснодар</td>\n",
       "    </tr>\n",
       "    <tr>\n",
       "      <th>3</th>\n",
       "      <td>1000</td>\n",
       "      <td>8</td>\n",
       "      <td>408</td>\n",
       "      <td>42</td>\n",
       "      <td>81</td>\n",
       "      <td>14055</td>\n",
       "      <td>14</td>\n",
       "      <td>ultra</td>\n",
       "      <td>Краснодар</td>\n",
       "    </tr>\n",
       "    <tr>\n",
       "      <th>4</th>\n",
       "      <td>1000</td>\n",
       "      <td>9</td>\n",
       "      <td>466</td>\n",
       "      <td>46</td>\n",
       "      <td>57</td>\n",
       "      <td>14568</td>\n",
       "      <td>15</td>\n",
       "      <td>ultra</td>\n",
       "      <td>Краснодар</td>\n",
       "    </tr>\n",
       "  </tbody>\n",
       "</table>\n",
       "</div>"
      ],
      "text/plain": [
       "   user_id  month  call_duration  number_of_calls_per_month  \\\n",
       "0     1000      5            159                         17   \n",
       "1     1000      6            172                         28   \n",
       "2     1000      7            340                         41   \n",
       "3     1000      8            408                         42   \n",
       "4     1000      9            466                         46   \n",
       "\n",
       "   number_of_messages_per_month  mb_used_per_month  gb_used_per_month tariff  \\\n",
       "0                            22               2253                  3  ultra   \n",
       "1                            60              23233                 23  ultra   \n",
       "2                            75              14003                 14  ultra   \n",
       "3                            81              14055                 14  ultra   \n",
       "4                            57              14568                 15  ultra   \n",
       "\n",
       "        city  \n",
       "0  Краснодар  \n",
       "1  Краснодар  \n",
       "2  Краснодар  \n",
       "3  Краснодар  \n",
       "4  Краснодар  "
      ]
     },
     "metadata": {},
     "output_type": "display_data"
    }
   ],
   "source": [
    "data_m = calls_gr.merge(messages_gr, on = ['user_id', 'month'], how = 'outer')\n",
    "data_m = data_m.merge(internet_gr, on = ['user_id', 'month'], how = 'outer')\n",
    "data_m = data_m.fillna(0).astype(int)\n",
    "data_m = data_m.merge(users[['user_id','tariff','city']], on='user_id', how = 'left')\n",
    "display(data_m.head())"
   ]
  },
  {
   "cell_type": "code",
   "execution_count": 14,
   "metadata": {},
   "outputs": [],
   "source": [
    "# функция для расчета помесячной прибыли\n",
    "def monthly_profit(row): \n",
    "    t = row['tariff']\n",
    "    t = tariffs.query('tariff_name == @t').reset_index()\n",
    "    mes_i, mb_i, min_i, mon_fee, rub_gb, rub_mes, rub_min = t.loc[0, 'messages_included'], t.loc[0, 'mb_per_month_included'], t.loc[0, 'minutes_included'], t.loc[0, 'rub_monthly_fee'], t.loc[0, 'rub_per_gb'], t.loc[0, 'rub_per_message'], t.loc[0, 'rub_per_minute']\n",
    "    if row['call_duration'] - min_i > 0:\n",
    "        mon_fee +=  (row['call_duration'] - min_i) * rub_min\n",
    "    if row['number_of_messages_per_month'] - mes_i > 0:\n",
    "        mon_fee +=  (row['number_of_messages_per_month'] - mes_i) * rub_mes\n",
    "    if row['gb_used_per_month'] - (mb_i//1024) > 0:\n",
    "        mon_fee +=  (row['gb_used_per_month'] - (mb_i//1024)) * rub_gb\n",
    "    return mon_fee"
   ]
  },
  {
   "cell_type": "code",
   "execution_count": 15,
   "metadata": {
    "scrolled": true
   },
   "outputs": [
    {
     "data": {
      "text/html": [
       "<div>\n",
       "<style scoped>\n",
       "    .dataframe tbody tr th:only-of-type {\n",
       "        vertical-align: middle;\n",
       "    }\n",
       "\n",
       "    .dataframe tbody tr th {\n",
       "        vertical-align: top;\n",
       "    }\n",
       "\n",
       "    .dataframe thead th {\n",
       "        text-align: right;\n",
       "    }\n",
       "</style>\n",
       "<table border=\"1\" class=\"dataframe\">\n",
       "  <thead>\n",
       "    <tr style=\"text-align: right;\">\n",
       "      <th></th>\n",
       "      <th>user_id</th>\n",
       "      <th>month</th>\n",
       "      <th>call_duration</th>\n",
       "      <th>number_of_calls_per_month</th>\n",
       "      <th>number_of_messages_per_month</th>\n",
       "      <th>mb_used_per_month</th>\n",
       "      <th>gb_used_per_month</th>\n",
       "      <th>tariff</th>\n",
       "      <th>city</th>\n",
       "      <th>monthly_profit</th>\n",
       "    </tr>\n",
       "  </thead>\n",
       "  <tbody>\n",
       "    <tr>\n",
       "      <th>0</th>\n",
       "      <td>1000</td>\n",
       "      <td>5</td>\n",
       "      <td>159</td>\n",
       "      <td>17</td>\n",
       "      <td>22</td>\n",
       "      <td>2253</td>\n",
       "      <td>3</td>\n",
       "      <td>ultra</td>\n",
       "      <td>Краснодар</td>\n",
       "      <td>1950</td>\n",
       "    </tr>\n",
       "    <tr>\n",
       "      <th>1</th>\n",
       "      <td>1000</td>\n",
       "      <td>6</td>\n",
       "      <td>172</td>\n",
       "      <td>28</td>\n",
       "      <td>60</td>\n",
       "      <td>23233</td>\n",
       "      <td>23</td>\n",
       "      <td>ultra</td>\n",
       "      <td>Краснодар</td>\n",
       "      <td>1950</td>\n",
       "    </tr>\n",
       "    <tr>\n",
       "      <th>2</th>\n",
       "      <td>1000</td>\n",
       "      <td>7</td>\n",
       "      <td>340</td>\n",
       "      <td>41</td>\n",
       "      <td>75</td>\n",
       "      <td>14003</td>\n",
       "      <td>14</td>\n",
       "      <td>ultra</td>\n",
       "      <td>Краснодар</td>\n",
       "      <td>1950</td>\n",
       "    </tr>\n",
       "    <tr>\n",
       "      <th>3</th>\n",
       "      <td>1000</td>\n",
       "      <td>8</td>\n",
       "      <td>408</td>\n",
       "      <td>42</td>\n",
       "      <td>81</td>\n",
       "      <td>14055</td>\n",
       "      <td>14</td>\n",
       "      <td>ultra</td>\n",
       "      <td>Краснодар</td>\n",
       "      <td>1950</td>\n",
       "    </tr>\n",
       "    <tr>\n",
       "      <th>4</th>\n",
       "      <td>1000</td>\n",
       "      <td>9</td>\n",
       "      <td>466</td>\n",
       "      <td>46</td>\n",
       "      <td>57</td>\n",
       "      <td>14568</td>\n",
       "      <td>15</td>\n",
       "      <td>ultra</td>\n",
       "      <td>Краснодар</td>\n",
       "      <td>1950</td>\n",
       "    </tr>\n",
       "  </tbody>\n",
       "</table>\n",
       "</div>"
      ],
      "text/plain": [
       "   user_id  month  call_duration  number_of_calls_per_month  \\\n",
       "0     1000      5            159                         17   \n",
       "1     1000      6            172                         28   \n",
       "2     1000      7            340                         41   \n",
       "3     1000      8            408                         42   \n",
       "4     1000      9            466                         46   \n",
       "\n",
       "   number_of_messages_per_month  mb_used_per_month  gb_used_per_month tariff  \\\n",
       "0                            22               2253                  3  ultra   \n",
       "1                            60              23233                 23  ultra   \n",
       "2                            75              14003                 14  ultra   \n",
       "3                            81              14055                 14  ultra   \n",
       "4                            57              14568                 15  ultra   \n",
       "\n",
       "        city  monthly_profit  \n",
       "0  Краснодар            1950  \n",
       "1  Краснодар            1950  \n",
       "2  Краснодар            1950  \n",
       "3  Краснодар            1950  \n",
       "4  Краснодар            1950  "
      ]
     },
     "metadata": {},
     "output_type": "display_data"
    }
   ],
   "source": [
    "data_m['monthly_profit'] = data_m.apply(monthly_profit, axis = 1)\n",
    "display(data_m.head())"
   ]
  },
  {
   "cell_type": "markdown",
   "metadata": {},
   "source": [
    "## Шаг 3. Анализ данных"
   ]
  },
  {
   "cell_type": "markdown",
   "metadata": {},
   "source": [
    "Необходимо описать поведение клиентов оператора, исходя из выборки. Сколько минут разговора, сколько сообщений и какой объём интернет-трафика требуется пользователям каждого тарифа в месяц? Нужно посчитать среднее количество, дисперсию и стандартное отклонение, построить гистограммы и описать распределения."
   ]
  },
  {
   "cell_type": "code",
   "execution_count": 16,
   "metadata": {},
   "outputs": [],
   "source": [
    "# функция рассчета среднего значения\n",
    "def aver_f(col, par): \n",
    "    return data_m.query('tariff == @par')[col].mean()\n",
    "\n",
    "# функция рассчета дисперсии\n",
    "def var_f(col, par): \n",
    "    return np.var(data_m.query('tariff == @par')[col], ddof=1)\n",
    "\n",
    "# функция рассчета стандартного отклонения\n",
    "def dev_f(col, par): \n",
    "    return np.std(data_m.query('tariff == @par')[col], ddof=1)\n",
    "\n",
    "# выведение показателей по определенному параметру\n",
    "def desc_f(col): \n",
    "    print(' Среднее значение параметра', col, 'для пользователей тарифа \"Smart\"(в месяц):', round(aver_f(col, 'smart'),1),'\\n',\\\n",
    "         'Среднее значение параметра', col, 'для пользователей тарифа \"Ultra\"(в месяц):', round(aver_f(col, 'ultra'), 1),'\\n',\\\n",
    "         'Дисперсия параметра', col, 'для пользователей тарифа \"Smart\"(в месяц):', round(var_f(col, 'smart'), 1),'\\n',\\\n",
    "         'Дисперсия параметра', col, 'для пользователей тарифа \"Ultra\"(в месяц):', round(var_f(col, 'ultra'), 1),'\\n',\\\n",
    "         'Стандартное отклонение параметра', col, 'для пользователей тарифа \"Smart\"(в месяц):', round(dev_f(col, 'smart'), 1),'\\n',\\\n",
    "         'Стандартное отклонение параметра', col, 'для пользователей тарифа \"Ultra\"(в месяц):', round(dev_f(col, 'ultra'), 1))\n",
    "\n",
    "    \n",
    "# функция для построения гистограмм по определенному параметру    \n",
    "def graf(col, xlab, titl, bins): \n",
    "    plt.figure(figsize=(14, 5))\n",
    "    plt.hist(data_m.query('tariff == \"smart\"')[col], bins, alpha=0.5, label='Пользователи тарифа \"Smart\"')\n",
    "    plt.hist(data_m.query('tariff == \"ultra\"')[col], bins, alpha=0.5, label='Пользователи тарифа \"Ultra\"')\n",
    "    plt.xlabel(xlab)\n",
    "    plt.legend(loc='upper right')\n",
    "    plt.title(titl)\n",
    "    plt.grid(True)\n",
    "    plt.show()"
   ]
  },
  {
   "cell_type": "markdown",
   "metadata": {},
   "source": [
    "### Анализ данных по длительности звонков"
   ]
  },
  {
   "cell_type": "code",
   "execution_count": 17,
   "metadata": {},
   "outputs": [
    {
     "data": {
      "image/png": "[encoded data removed]",
      "text/plain": [
       "<Figure size 1008x360 with 1 Axes>"
      ]
     },
     "metadata": {
      "needs_background": "light"
     },
     "output_type": "display_data"
    }
   ],
   "source": [
    "graf('call_duration', 'Длительность телефонных звонков в месяц', 'Анализ длительности звонков за месяц', 50)"
   ]
  },
  {
   "cell_type": "code",
   "execution_count": 18,
   "metadata": {},
   "outputs": [
    {
     "name": "stdout",
     "output_type": "stream",
     "text": [
      " Среднее значение параметра call_duration для пользователей тарифа \"Smart\"(в месяц): 417.9 \n",
      " Среднее значение параметра call_duration для пользователей тарифа \"Ultra\"(в месяц): 526.6 \n",
      " Дисперсия параметра call_duration для пользователей тарифа \"Smart\"(в месяц): 36219.3 \n",
      " Дисперсия параметра call_duration для пользователей тарифа \"Ultra\"(в месяц): 100873.6 \n",
      " Стандартное отклонение параметра call_duration для пользователей тарифа \"Smart\"(в месяц): 190.3 \n",
      " Стандартное отклонение параметра call_duration для пользователей тарифа \"Ultra\"(в месяц): 317.6\n"
     ]
    }
   ],
   "source": [
    "desc_f('call_duration')"
   ]
  },
  {
   "cell_type": "code",
   "execution_count": 19,
   "metadata": {},
   "outputs": [
    {
     "data": {
      "text/html": [
       "<div>\n",
       "<style scoped>\n",
       "    .dataframe tbody tr th:only-of-type {\n",
       "        vertical-align: middle;\n",
       "    }\n",
       "\n",
       "    .dataframe tbody tr th {\n",
       "        vertical-align: top;\n",
       "    }\n",
       "\n",
       "    .dataframe thead th {\n",
       "        text-align: right;\n",
       "    }\n",
       "</style>\n",
       "<table border=\"1\" class=\"dataframe\">\n",
       "  <thead>\n",
       "    <tr style=\"text-align: right;\">\n",
       "      <th></th>\n",
       "      <th>mean</th>\n",
       "      <th>std</th>\n",
       "      <th>var</th>\n",
       "    </tr>\n",
       "    <tr>\n",
       "      <th>tariff</th>\n",
       "      <th></th>\n",
       "      <th></th>\n",
       "      <th></th>\n",
       "    </tr>\n",
       "  </thead>\n",
       "  <tbody>\n",
       "    <tr>\n",
       "      <th>smart</th>\n",
       "      <td>417.93</td>\n",
       "      <td>190.31</td>\n",
       "      <td>36219.32</td>\n",
       "    </tr>\n",
       "    <tr>\n",
       "      <th>ultra</th>\n",
       "      <td>526.62</td>\n",
       "      <td>317.61</td>\n",
       "      <td>100873.63</td>\n",
       "    </tr>\n",
       "  </tbody>\n",
       "</table>\n",
       "</div>"
      ],
      "text/plain": [
       "          mean     std        var\n",
       "tariff                           \n",
       "smart   417.93  190.31   36219.32\n",
       "ultra   526.62  317.61  100873.63"
      ]
     },
     "execution_count": 19,
     "metadata": {},
     "output_type": "execute_result"
    }
   ],
   "source": [
    "data_m.groupby('tariff').call_duration.agg(['mean','std','var']).round(2)"
   ]
  },
  {
   "cell_type": "markdown",
   "metadata": {},
   "source": [
    "Исходя из графика распределения, имеющего колоколообразный вид, можно сказать, что большая часть значений пользователей тарифа \"Smart\" говорит по телефону 350-550 минут в месяц (очевидно сказывается ограничение тарифа по бесплатным минутам), распределение похоже на нормальное. Значения более 850 минут встречаются редко. \n",
    "График распределения значений для пользователей тарифа \"Ultra\" растянут по оси длительности звонков, распределение выглядит нормальным со слабовыраженным пиком около 500 минут.\n",
    "Среди пользователей обоих тарифов есть те, кто в определенные месяцы не совершал звонков. Отсюда пики нулевых на обоих графиках. Несмотря на то, что эти значения влияют на показатели, описывающие эти данные(среднее, дисперсия, среднее отклонение), избавиться от них мы не можем."
   ]
  },
  {
   "cell_type": "markdown",
   "metadata": {},
   "source": [
    "### Анализ данных по отправленным СМС"
   ]
  },
  {
   "cell_type": "code",
   "execution_count": 20,
   "metadata": {
    "scrolled": false
   },
   "outputs": [
    {
     "data": {
      "image/png": "[encoded data removed]",
      "text/plain": [
       "<Figure size 1008x360 with 1 Axes>"
      ]
     },
     "metadata": {
      "needs_background": "light"
     },
     "output_type": "display_data"
    }
   ],
   "source": [
    "graf('number_of_messages_per_month', 'Количество отправленных смс в месяц', 'Анализ количества отправленных смс за месяц', 50)"
   ]
  },
  {
   "cell_type": "code",
   "execution_count": 21,
   "metadata": {},
   "outputs": [
    {
     "name": "stdout",
     "output_type": "stream",
     "text": [
      " Среднее значение параметра number_of_messages_per_month для пользователей тарифа \"Smart\"(в месяц): 33.4 \n",
      " Среднее значение параметра number_of_messages_per_month для пользователей тарифа \"Ultra\"(в месяц): 49.4 \n",
      " Дисперсия параметра number_of_messages_per_month для пользователей тарифа \"Smart\"(в месяц): 796.8 \n",
      " Дисперсия параметра number_of_messages_per_month для пользователей тарифа \"Ultra\"(в месяц): 2285.3 \n",
      " Стандартное отклонение параметра number_of_messages_per_month для пользователей тарифа \"Smart\"(в месяц): 28.2 \n",
      " Стандартное отклонение параметра number_of_messages_per_month для пользователей тарифа \"Ultra\"(в месяц): 47.8\n"
     ]
    }
   ],
   "source": [
    "desc_f('number_of_messages_per_month')"
   ]
  },
  {
   "cell_type": "markdown",
   "metadata": {},
   "source": [
    "Гистограммы распределения пользователей по отправленным смс обоих тарифов похожи на гистограммы распределения длительности звонков. Большая часть значений для тарифа \"Smart\" сосредоточена в промежутке до 50 штук, что связано с ограничением самого тарифа.\n",
    "Значения для тарифа \"Ultra\" снова растянуты, как и в случае со звонками.\n",
    "Нулевых значений относительно остальных в случае смс намного больше, чем нулевых значений звонков. Но не брать их во внимание было бы ошибкой. Нулевое значение тоже значение."
   ]
  },
  {
   "cell_type": "markdown",
   "metadata": {},
   "source": [
    "### Анализ данных по использованию интернет-траффика"
   ]
  },
  {
   "cell_type": "code",
   "execution_count": 22,
   "metadata": {
    "scrolled": true
   },
   "outputs": [
    {
     "data": {
      "image/png": "[encoded data removed]",
      "text/plain": [
       "<Figure size 1008x360 with 1 Axes>"
      ]
     },
     "metadata": {
      "needs_background": "light"
     },
     "output_type": "display_data"
    }
   ],
   "source": [
    "graf('gb_used_per_month', 'Количество использованного траффика в месяц (Gb)', 'Анализ использованного траффика за месяц (Gb)', 38)"
   ]
  },
  {
   "cell_type": "code",
   "execution_count": 23,
   "metadata": {},
   "outputs": [
    {
     "name": "stdout",
     "output_type": "stream",
     "text": [
      " Среднее значение параметра gb_used_per_month для пользователей тарифа \"Smart\"(в месяц): 16.3 \n",
      " Среднее значение параметра gb_used_per_month для пользователей тарифа \"Ultra\"(в месяц): 19.5 \n",
      " Дисперсия параметра gb_used_per_month для пользователей тарифа \"Smart\"(в месяц): 33.0 \n",
      " Дисперсия параметра gb_used_per_month для пользователей тарифа \"Ultra\"(в месяц): 97.1 \n",
      " Стандартное отклонение параметра gb_used_per_month для пользователей тарифа \"Smart\"(в месяц): 5.7 \n",
      " Стандартное отклонение параметра gb_used_per_month для пользователей тарифа \"Ultra\"(в месяц): 9.9\n"
     ]
    }
   ],
   "source": [
    "desc_f('gb_used_per_month')"
   ]
  },
  {
   "cell_type": "markdown",
   "metadata": {},
   "source": [
    "Распределение использования интернет-траффика пользователей тарифа \"Smart\" похоже на нормальное, имеет колоколообразную форму, с пиком в районе 16-17 Гб. Распределение пользователей тарифа \"Ultra\" не имеет такой выраженной формы, но растянуто по горизонтальной оси.\n",
    "Более половины пользователей тарифа \"Smart\" часто превышают бесплатный ежемесячный лимит Гб, а это дополнительная прибыль с каждого клиента. Пользователи тарифа \"Ultra\" не так часто превышают лимит.\n",
    "Так же выделяется практически отсутствующие нулевые значения, доступом в интернет пользуются практически все практически каждый месяц."
   ]
  },
  {
   "cell_type": "markdown",
   "metadata": {},
   "source": [
    "## Шаг 4. Проверка гипотез"
   ]
  },
  {
   "cell_type": "markdown",
   "metadata": {},
   "source": [
    "### Гипотеза А: средняя выручка пользователей тарифов «Ультра» и «Смарт» различается"
   ]
  },
  {
   "cell_type": "markdown",
   "metadata": {},
   "source": [
    "Сформулируем нулевую гипотезу. Так как она всегда формулируется так, чтобы использовать знак равенства, значит наша нулевая гипотеза выглядит так: средняя выручка пользователей тарифов «Ультра» и «Смарт» равна. Соответственно альтернативная гипотеза: средняя выручка пользователей тарифов «Ультра» и «Смарт» не равна."
   ]
  },
  {
   "cell_type": "code",
   "execution_count": 24,
   "metadata": {},
   "outputs": [
    {
     "name": "stdout",
     "output_type": "stream",
     "text": [
      "p-значение: 1.4229814360764067e-160\n",
      "Отвергаем нулевую гипотезу\n"
     ]
    }
   ],
   "source": [
    "alpha = 0.05\n",
    "results = st.ttest_ind(data_m.query('tariff == \"smart\"')['monthly_profit'], \\\n",
    "                       data_m.query('tariff == \"ultra\"')['monthly_profit'])\n",
    "print('p-значение:', results.pvalue)\n",
    "if (results.pvalue < alpha):\n",
    "    print(\"Отвергаем нулевую гипотезу\")\n",
    "else:\n",
    "    print(\"Не получилось отвергнуть нулевую гипотезу\")"
   ]
  },
  {
   "cell_type": "markdown",
   "metadata": {},
   "source": [
    "Так как отвергнута нулевая гипотеза, которая говорила о равенстве средней выручки пользователей тарифов «Ультра» и «Смарт», то можно сказать, что средняя выручка пользователей разных тарифов не равна. Гипотеза А не отвергается."
   ]
  },
  {
   "cell_type": "code",
   "execution_count": 25,
   "metadata": {
    "scrolled": false
   },
   "outputs": [
    {
     "name": "stdout",
     "output_type": "stream",
     "text": [
      "Количество оплаченных тарифов \"Smart\" - 2229 шт., средняя выручка - 1290 руб., итоговая выручка -  2875410 руб.\n",
      "Количество оплаченных тарифов \"Ultra\" - 985 шт., средняя выручка - 2070 руб., итоговая выручка -  2038950 руб.\n"
     ]
    }
   ],
   "source": [
    "print('Количество оплаченных тарифов \"Smart\" -', data_m.query('tariff == \"smart\"')['monthly_profit'].count(), \n",
    "      'шт., средняя выручка -', round(data_m.query('tariff == \"smart\"')['monthly_profit'].mean()), \n",
    "      'руб., итоговая выручка - ', (data_m.query('tariff == \"smart\"')['monthly_profit'].count() * \n",
    "                                   round(data_m.query('tariff == \"smart\"')['monthly_profit'].mean())), 'руб.\\n'\n",
    "      'Количество оплаченных тарифов \"Ultra\" -', data_m.query('tariff == \"ultra\"')['monthly_profit'].count(),\n",
    "      'шт., средняя выручка -', round(data_m.query('tariff == \"ultra\"')['monthly_profit'].mean()),\n",
    "     'руб., итоговая выручка - ', (data_m.query('tariff == \"ultra\"')['monthly_profit'].count() * \n",
    "                                   round(data_m.query('tariff == \"ultra\"')['monthly_profit'].mean())), 'руб.')"
   ]
  },
  {
   "cell_type": "markdown",
   "metadata": {},
   "source": [
    "Несмотря на то, что средняя месячная выручка пользователей тарифа \"Smart\" меньше оной пользователей \"Ultra\" на 40%, за счет большего числа оплаченных тарифов \"Smart\" суммарная выручка от них больше на 30%."
   ]
  },
  {
   "cell_type": "markdown",
   "metadata": {},
   "source": [
    "### Гипотеза Б: средняя выручка пользователей из Москвы отличается от выручки пользователей из других регионов"
   ]
  },
  {
   "cell_type": "markdown",
   "metadata": {},
   "source": [
    "Сформируем нулевую гипотезу: средняя выручка пользователей из Москвы равна выручке пользователей из других регионов. Тогда альтернативная гипотеза: средняя выручка пользователей из Москвы не равна выручке пользователей из других регионов."
   ]
  },
  {
   "cell_type": "code",
   "execution_count": 26,
   "metadata": {},
   "outputs": [
    {
     "name": "stdout",
     "output_type": "stream",
     "text": [
      "p-значение: 0.5440152911670223\n",
      "Не получилось отвергнуть нулевую гипотезу\n"
     ]
    }
   ],
   "source": [
    "alpha = 0.05\n",
    "results = st.ttest_ind(data_m.query('city == \"Москва\"')['monthly_profit'], \n",
    "                       data_m.query('city != \"Москва\"')['monthly_profit'])\n",
    "print('p-значение:', results.pvalue)\n",
    "if (results.pvalue < alpha):\n",
    "    print(\"Отвергаем нулевую гипотезу\")\n",
    "else:\n",
    "    print(\"Не получилось отвергнуть нулевую гипотезу\")"
   ]
  },
  {
   "cell_type": "markdown",
   "metadata": {},
   "source": [
    "Не получилось отвергнуть нулевую гипотезу, значит можно сказать, что средняя выручка пользователей из Москвы равна выручке пользователей из других регионов. Гипотеза Б отвергается."
   ]
  },
  {
   "cell_type": "code",
   "execution_count": 27,
   "metadata": {},
   "outputs": [
    {
     "name": "stdout",
     "output_type": "stream",
     "text": [
      "Количество оплат тарифов в Москве - 611 шт., средняя выручка - 1547 руб., итоговая выручка -  945217 руб.\n",
      "Количество оплат тарифов не в Москве - 2603 шт., средняя выручка - 1525 руб., итоговая выручка -  3969575 руб.\n"
     ]
    }
   ],
   "source": [
    "print('Количество оплат тарифов в Москве -', data_m.query('city == \"Москва\"')['monthly_profit'].count(), \n",
    "      'шт., средняя выручка -', round(data_m.query('city == \"Москва\"')['monthly_profit'].mean()), \n",
    "      'руб., итоговая выручка - ', (data_m.query('city == \"Москва\"')['monthly_profit'].count() * \n",
    "                                   round(data_m.query('city == \"Москва\"')['monthly_profit'].mean())), 'руб.\\n'\n",
    "      'Количество оплат тарифов не в Москве -', data_m.query('city != \"Москва\"')['monthly_profit'].count(),\n",
    "      'шт., средняя выручка -', round(data_m.query('city != \"Москва\"')['monthly_profit'].mean()),\n",
    "     'руб., итоговая выручка - ', (data_m.query('city != \"Москва\"')['monthly_profit'].count() * \n",
    "                                   round(data_m.query('city != \"Москва\"')['monthly_profit'].mean())), 'руб.')"
   ]
  },
  {
   "cell_type": "markdown",
   "metadata": {},
   "source": [
    "Разница в средней выручке практически отсутствует, но из-за преобладания региональных оплат тарифов более чем в 4 раза, итоговая выручка от других регионов больше выручки от Москвы в 4 раза. "
   ]
  },
  {
   "cell_type": "markdown",
   "metadata": {},
   "source": [
    "## Выводы"
   ]
  },
  {
   "cell_type": "markdown",
   "metadata": {},
   "source": [
    "В данной работе были проанализированы данные по 500 абонентам компании «Мегалайн», пользователям тарифов «Смарт» и «Ультра».\n",
    "Данные предоставлялись в 5 датасетах: данные о пользователях, условия тарифов,данные по звонкам, данные по смс и данные по использованию интернет-траффика.\n",
    "Датасеты были обработанны, сгруппированы по пользователям и месяцам и собраны в один датасет, что позволило проанализировать их и ответить на поставленные вопросы и сделать определенные выводы:\n",
    "* Оказалось, что пользователи \"Smart\" в среднем в месяц разговаривают по телефону 418 минут, а пользователи тарифа \"Ultra\" 527 минут, при это нередки случаи, когда за месяц абонент не сделал ни одного звонка. Среди абонентов \"Smart\" так же не редки случая исчерпания лимита минут и покупки их отдельно.\n",
    "* Что касается смс, то в среднем в месяц пользователи \"Smart\" отправляют 33 смс(но не редки случаи, когда лимит исчерпывался пользователем), пользователи тарифа \"Ultra\" - 49. Количество случаев, когда за месяц не было отправлено ни одной смс, намного больше, чем в случае с телефонными разговорами. Смс вытесняются различными интернет-мессенджерами и необходимость в них возникает все реже и реже.\n",
    "* Интернет-траффик используют практически всегда, это самая используемая услуга из трех. Более половины пользователей тарифа \"Smart\" часто превышают бесплатный ежемесячный лимит Гб, тем самым генерируя дополнительную прибыль с каждого клиента. Пользователи тарифа \"Ultra\" тоже превышают лимит, хоть и не так часто.\n",
    "\n",
    "Так же нами были проверены 2 гипотезы. Гипотеза А: средняя выручка пользователей тарифов «Ультра» и «Смарт» различается. Данную гипотезу не получилось отвергнуть, значит вероятнее всего средняя выручка пользователей тарифов «Ультра» и «Смарт» различается. Гипотеза Б: средняя выручка пользователей из Москвы отличается от выручки пользователей из других регионов. Её мы отвергли, потому что средние выручки практически не отличаются.\n",
    "\n",
    "Что касается суммарной выгоды пользователей, то на основании представленных данных можно сказать:\n",
    "1. _Суммарная выручка от тарифа \"Smart\" больше на 30% по сравнению с вырочкой от \"Ultra\". Так сложилось из-за того, что оплат тарифа \"Smart\" больше \"Ultra\" в 2.3 раза, при средней ежемесячной выручке в 1290 руб.(\"Smart\") и 2070 руб.(\"Ultra\")._\n",
    "2. _Суммарная прибыль от оплаченных тарифов из Москвы и других регионов различается в 4 раза в пользу регионов, так как региональных оплат больше в 4 раза._\n",
    "\n",
    "**Имеет смысл вкладывать рекламные бюджеты в продвижение услуг данного оператора в регионах и конкретно тарифа \"Smart\".**"
   ]
  }
 ],
 "metadata": {
  "ExecuteTimeLog": [
   {
    "duration": 775,
    "start_time": "2021-07-29T23:46:54.404Z"
   },
   {
    "duration": 336,
    "start_time": "2021-07-29T23:47:16.729Z"
   },
   {
    "duration": 9,
    "start_time": "2021-07-29T23:47:28.565Z"
   },
   {
    "duration": 152,
    "start_time": "2021-07-29T23:48:07.163Z"
   },
   {
    "duration": 8,
    "start_time": "2021-07-29T23:48:11.304Z"
   },
   {
    "duration": 196,
    "start_time": "2021-07-29T23:51:20.888Z"
   },
   {
    "duration": 397,
    "start_time": "2021-07-29T23:51:25.372Z"
   },
   {
    "duration": 10,
    "start_time": "2021-07-29T23:51:28.668Z"
   },
   {
    "duration": 9,
    "start_time": "2021-07-29T23:52:01.628Z"
   },
   {
    "duration": 7,
    "start_time": "2021-07-29T23:52:41.441Z"
   },
   {
    "duration": 9,
    "start_time": "2021-07-29T23:53:07.809Z"
   },
   {
    "duration": 12,
    "start_time": "2021-07-29T23:54:27.554Z"
   },
   {
    "duration": 362,
    "start_time": "2021-07-30T06:49:15.291Z"
   },
   {
    "duration": 1743,
    "start_time": "2021-07-30T06:49:20.131Z"
   },
   {
    "duration": 246,
    "start_time": "2021-07-30T06:49:24.706Z"
   },
   {
    "duration": 207,
    "start_time": "2021-07-30T06:56:16.093Z"
   },
   {
    "duration": 210,
    "start_time": "2021-07-30T06:57:50.956Z"
   },
   {
    "duration": 140,
    "start_time": "2021-07-30T07:01:21.149Z"
   },
   {
    "duration": 34,
    "start_time": "2021-07-30T07:05:07.752Z"
   },
   {
    "duration": 244,
    "start_time": "2021-07-30T07:07:18.471Z"
   },
   {
    "duration": 35,
    "start_time": "2021-07-30T07:08:03.329Z"
   },
   {
    "duration": 44,
    "start_time": "2021-07-30T07:09:09.260Z"
   },
   {
    "duration": 48,
    "start_time": "2021-07-30T07:09:31.528Z"
   },
   {
    "duration": 382,
    "start_time": "2021-07-30T07:13:53.894Z"
   },
   {
    "duration": 350,
    "start_time": "2021-07-30T07:14:16.415Z"
   },
   {
    "duration": 50,
    "start_time": "2021-07-30T07:14:32.506Z"
   },
   {
    "duration": 52,
    "start_time": "2021-07-30T07:27:26.871Z"
   },
   {
    "duration": 8326,
    "start_time": "2021-07-30T07:28:21.660Z"
   },
   {
    "duration": 57,
    "start_time": "2021-07-30T07:28:40.874Z"
   },
   {
    "duration": 68,
    "start_time": "2021-07-30T07:29:16.256Z"
   },
   {
    "duration": 40034,
    "start_time": "2021-07-30T07:32:57.256Z"
   },
   {
    "duration": 17,
    "start_time": "2021-07-30T07:35:10.872Z"
   },
   {
    "duration": 31,
    "start_time": "2021-07-30T07:35:23.998Z"
   },
   {
    "duration": 129,
    "start_time": "2021-07-30T07:42:04.395Z"
   },
   {
    "duration": 85,
    "start_time": "2021-07-30T07:42:12.033Z"
   },
   {
    "duration": 76,
    "start_time": "2021-07-30T07:42:36.088Z"
   },
   {
    "duration": 80,
    "start_time": "2021-07-30T07:43:03.738Z"
   },
   {
    "duration": 411,
    "start_time": "2021-07-30T07:43:37.045Z"
   },
   {
    "duration": 73,
    "start_time": "2021-07-30T07:44:11.327Z"
   },
   {
    "duration": 2690,
    "start_time": "2021-07-30T09:23:28.630Z"
   },
   {
    "duration": 53694,
    "start_time": "2021-07-30T09:23:58.259Z"
   },
   {
    "duration": 24,
    "start_time": "2021-07-30T09:47:18.127Z"
   },
   {
    "duration": 17,
    "start_time": "2021-07-30T10:21:31.035Z"
   },
   {
    "duration": 6,
    "start_time": "2021-07-30T10:22:24.385Z"
   },
   {
    "duration": 6,
    "start_time": "2021-07-30T10:22:59.535Z"
   },
   {
    "duration": 17,
    "start_time": "2021-07-30T10:24:10.526Z"
   },
   {
    "duration": 317,
    "start_time": "2021-07-30T10:25:04.593Z"
   },
   {
    "duration": 14,
    "start_time": "2021-07-30T10:25:22.790Z"
   },
   {
    "duration": 33,
    "start_time": "2021-07-30T10:31:23.931Z"
   },
   {
    "duration": 30,
    "start_time": "2021-07-30T10:32:55.086Z"
   },
   {
    "duration": 79,
    "start_time": "2021-07-30T10:34:54.070Z"
   },
   {
    "duration": 340,
    "start_time": "2021-07-30T10:37:52.742Z"
   },
   {
    "duration": 110,
    "start_time": "2021-07-30T10:38:13.862Z"
   },
   {
    "duration": 206,
    "start_time": "2021-07-30T10:42:53.901Z"
   },
   {
    "duration": 42,
    "start_time": "2021-07-30T10:43:47.414Z"
   },
   {
    "duration": 344,
    "start_time": "2021-07-30T10:44:10.590Z"
   },
   {
    "duration": 11,
    "start_time": "2021-07-30T10:44:15.404Z"
   },
   {
    "duration": 103,
    "start_time": "2021-07-30T11:33:29.810Z"
   },
   {
    "duration": 17,
    "start_time": "2021-07-30T11:41:15.294Z"
   },
   {
    "duration": 18,
    "start_time": "2021-07-30T11:41:52.304Z"
   },
   {
    "duration": 19,
    "start_time": "2021-07-30T11:42:12.722Z"
   },
   {
    "duration": 17,
    "start_time": "2021-07-30T11:42:32.337Z"
   },
   {
    "duration": 28,
    "start_time": "2021-07-30T11:42:35.583Z"
   },
   {
    "duration": 112,
    "start_time": "2021-07-30T11:45:13.488Z"
   },
   {
    "duration": 317,
    "start_time": "2021-07-30T11:45:31.322Z"
   },
   {
    "duration": 306,
    "start_time": "2021-07-30T11:45:40.931Z"
   },
   {
    "duration": 306,
    "start_time": "2021-07-30T11:46:29.625Z"
   },
   {
    "duration": 156,
    "start_time": "2021-07-30T11:46:58.791Z"
   },
   {
    "duration": 24,
    "start_time": "2021-07-30T11:47:06.956Z"
   },
   {
    "duration": 23,
    "start_time": "2021-07-30T11:47:13.242Z"
   },
   {
    "duration": 3432,
    "start_time": "2021-07-30T11:48:28.294Z"
   },
   {
    "duration": 36,
    "start_time": "2021-07-30T11:49:34.066Z"
   },
   {
    "duration": 21,
    "start_time": "2021-07-30T11:49:47.560Z"
   },
   {
    "duration": 34,
    "start_time": "2021-07-30T11:50:15.768Z"
   },
   {
    "duration": 24,
    "start_time": "2021-07-30T11:50:21.244Z"
   },
   {
    "duration": 22,
    "start_time": "2021-07-30T11:50:36.521Z"
   },
   {
    "duration": 321,
    "start_time": "2021-07-30T11:53:40.952Z"
   },
   {
    "duration": 20,
    "start_time": "2021-07-30T11:53:53.223Z"
   },
   {
    "duration": 22,
    "start_time": "2021-07-30T11:54:34.276Z"
   },
   {
    "duration": 25,
    "start_time": "2021-07-30T11:54:41.482Z"
   },
   {
    "duration": 24,
    "start_time": "2021-07-30T11:55:07.448Z"
   },
   {
    "duration": 24,
    "start_time": "2021-07-30T12:00:01.852Z"
   },
   {
    "duration": 21,
    "start_time": "2021-07-30T12:00:08.319Z"
   },
   {
    "duration": 24,
    "start_time": "2021-07-30T12:00:12.134Z"
   },
   {
    "duration": 51,
    "start_time": "2021-07-30T12:00:41.483Z"
   },
   {
    "duration": 63,
    "start_time": "2021-07-30T12:01:38.162Z"
   },
   {
    "duration": 64,
    "start_time": "2021-07-30T12:01:55.081Z"
   },
   {
    "duration": 423,
    "start_time": "2021-07-30T12:02:34.782Z"
   },
   {
    "duration": 43,
    "start_time": "2021-07-30T12:04:06.930Z"
   },
   {
    "duration": 106,
    "start_time": "2021-07-30T12:05:41.294Z"
   },
   {
    "duration": 7359,
    "start_time": "2021-07-30T12:05:46.778Z"
   },
   {
    "duration": 8887,
    "start_time": "2021-07-30T12:06:27.994Z"
   },
   {
    "duration": 298,
    "start_time": "2021-07-30T12:09:40.677Z"
   },
   {
    "duration": 673,
    "start_time": "2021-07-30T12:09:48.037Z"
   },
   {
    "duration": 312,
    "start_time": "2021-07-30T12:09:59.409Z"
   },
   {
    "duration": 8545,
    "start_time": "2021-07-30T12:10:09.767Z"
   },
   {
    "duration": 25,
    "start_time": "2021-07-30T12:12:57.843Z"
   },
   {
    "duration": 23,
    "start_time": "2021-07-30T12:13:28.280Z"
   },
   {
    "duration": 40,
    "start_time": "2021-07-30T12:13:50.263Z"
   },
   {
    "duration": 334,
    "start_time": "2021-07-30T12:14:19.947Z"
   },
   {
    "duration": 39,
    "start_time": "2021-07-30T12:14:44.462Z"
   },
   {
    "duration": 41,
    "start_time": "2021-07-30T12:14:53.777Z"
   },
   {
    "duration": 19,
    "start_time": "2021-07-30T12:17:26.945Z"
   },
   {
    "duration": 33,
    "start_time": "2021-07-30T12:17:31.317Z"
   },
   {
    "duration": 35,
    "start_time": "2021-07-30T12:17:51.393Z"
   },
   {
    "duration": 21,
    "start_time": "2021-07-30T12:21:39.290Z"
   },
   {
    "duration": 342,
    "start_time": "2021-07-30T12:22:01.052Z"
   },
   {
    "duration": 33,
    "start_time": "2021-07-30T12:22:07.232Z"
   },
   {
    "duration": 32,
    "start_time": "2021-07-30T12:22:15.043Z"
   },
   {
    "duration": 7,
    "start_time": "2021-07-30T12:22:28.426Z"
   },
   {
    "duration": 21,
    "start_time": "2021-07-30T12:22:38.487Z"
   },
   {
    "duration": 18,
    "start_time": "2021-07-30T12:22:41.972Z"
   },
   {
    "duration": 25,
    "start_time": "2021-07-30T12:28:40.391Z"
   },
   {
    "duration": 35,
    "start_time": "2021-07-30T12:29:04.640Z"
   },
   {
    "duration": 4,
    "start_time": "2021-07-30T12:29:13.822Z"
   },
   {
    "duration": 22,
    "start_time": "2021-07-30T12:29:32.910Z"
   },
   {
    "duration": 5,
    "start_time": "2021-07-30T12:29:36.465Z"
   },
   {
    "duration": 26,
    "start_time": "2021-07-30T12:29:56.842Z"
   },
   {
    "duration": 20,
    "start_time": "2021-07-30T12:30:01.165Z"
   },
   {
    "duration": 29,
    "start_time": "2021-07-30T12:30:24.675Z"
   },
   {
    "duration": 21,
    "start_time": "2021-07-30T12:30:27.440Z"
   },
   {
    "duration": 842,
    "start_time": "2021-07-30T12:41:10.039Z"
   },
   {
    "duration": 253,
    "start_time": "2021-07-30T12:41:10.884Z"
   },
   {
    "duration": 213,
    "start_time": "2021-07-30T12:41:11.141Z"
   },
   {
    "duration": 156,
    "start_time": "2021-07-30T12:41:11.357Z"
   },
   {
    "duration": 45,
    "start_time": "2021-07-30T12:41:11.517Z"
   },
   {
    "duration": 56,
    "start_time": "2021-07-30T12:41:11.565Z"
   },
   {
    "duration": 107053,
    "start_time": "2021-07-30T12:41:11.624Z"
   },
   {
    "duration": 30,
    "start_time": "2021-07-30T12:42:58.683Z"
   },
   {
    "duration": 428,
    "start_time": "2021-07-30T12:42:58.716Z"
   },
   {
    "duration": -231,
    "start_time": "2021-07-30T12:42:59.377Z"
   },
   {
    "duration": -236,
    "start_time": "2021-07-30T12:42:59.384Z"
   },
   {
    "duration": 2452,
    "start_time": "2021-07-30T12:46:07.450Z"
   },
   {
    "duration": 2770,
    "start_time": "2021-07-30T14:34:32.452Z"
   },
   {
    "duration": 62,
    "start_time": "2021-07-30T14:35:36.011Z"
   },
   {
    "duration": 46,
    "start_time": "2021-07-30T14:40:02.857Z"
   },
   {
    "duration": 41,
    "start_time": "2021-07-30T14:41:01.698Z"
   },
   {
    "duration": 47,
    "start_time": "2021-07-30T14:43:13.998Z"
   },
   {
    "duration": 66,
    "start_time": "2021-07-30T14:43:44.454Z"
   },
   {
    "duration": 49,
    "start_time": "2021-07-30T14:50:23.126Z"
   },
   {
    "duration": 327,
    "start_time": "2021-07-30T15:15:17.848Z"
   },
   {
    "duration": 5,
    "start_time": "2021-07-30T15:17:37.549Z"
   },
   {
    "duration": 348,
    "start_time": "2021-07-30T15:17:55.812Z"
   },
   {
    "duration": 351,
    "start_time": "2021-07-30T15:18:43.390Z"
   },
   {
    "duration": 1606,
    "start_time": "2021-07-30T15:21:18.515Z"
   },
   {
    "duration": 216,
    "start_time": "2021-07-30T15:21:34.406Z"
   },
   {
    "duration": 231,
    "start_time": "2021-07-30T15:21:54.949Z"
   },
   {
    "duration": 211,
    "start_time": "2021-07-30T15:22:16.249Z"
   },
   {
    "duration": 203,
    "start_time": "2021-07-30T15:24:21.198Z"
   },
   {
    "duration": 486,
    "start_time": "2021-07-30T15:26:44.212Z"
   },
   {
    "duration": 250,
    "start_time": "2021-07-30T15:26:54.658Z"
   },
   {
    "duration": 74,
    "start_time": "2021-07-30T15:55:41.591Z"
   },
   {
    "duration": 55,
    "start_time": "2021-07-30T15:56:23.839Z"
   },
   {
    "duration": 52,
    "start_time": "2021-07-30T15:56:46.266Z"
   },
   {
    "duration": 53,
    "start_time": "2021-07-30T15:56:55.777Z"
   },
   {
    "duration": 56,
    "start_time": "2021-07-30T15:57:05.646Z"
   },
   {
    "duration": 49,
    "start_time": "2021-07-30T15:57:57.930Z"
   },
   {
    "duration": 10,
    "start_time": "2021-07-30T16:20:21.789Z"
   },
   {
    "duration": 27,
    "start_time": "2021-07-30T16:20:29.636Z"
   },
   {
    "duration": 311,
    "start_time": "2021-07-30T16:36:00.812Z"
   },
   {
    "duration": 338,
    "start_time": "2021-07-30T16:37:54.584Z"
   },
   {
    "duration": 322,
    "start_time": "2021-07-30T16:38:41.936Z"
   },
   {
    "duration": 423,
    "start_time": "2021-07-30T16:39:03.670Z"
   },
   {
    "duration": 35,
    "start_time": "2021-07-30T16:39:18.910Z"
   },
   {
    "duration": 24,
    "start_time": "2021-07-30T16:40:06.314Z"
   },
   {
    "duration": 28,
    "start_time": "2021-07-30T16:40:26.089Z"
   },
   {
    "duration": 39,
    "start_time": "2021-07-30T16:42:11.860Z"
   },
   {
    "duration": 36,
    "start_time": "2021-07-30T16:42:34.000Z"
   },
   {
    "duration": 42,
    "start_time": "2021-07-30T16:44:50.089Z"
   },
   {
    "duration": 41,
    "start_time": "2021-07-30T16:45:13.642Z"
   },
   {
    "duration": 46,
    "start_time": "2021-07-30T16:46:38.782Z"
   },
   {
    "duration": 40,
    "start_time": "2021-07-30T16:47:14.929Z"
   },
   {
    "duration": 306,
    "start_time": "2021-07-30T16:47:42.515Z"
   },
   {
    "duration": 39,
    "start_time": "2021-07-30T16:48:00.740Z"
   },
   {
    "duration": 50,
    "start_time": "2021-07-30T16:49:25.290Z"
   },
   {
    "duration": 45,
    "start_time": "2021-07-30T17:02:13.698Z"
   },
   {
    "duration": 323,
    "start_time": "2021-07-30T17:02:30.306Z"
   },
   {
    "duration": 324,
    "start_time": "2021-07-30T17:02:48.086Z"
   },
   {
    "duration": 39,
    "start_time": "2021-07-30T17:04:19.391Z"
   },
   {
    "duration": 94,
    "start_time": "2021-07-30T17:19:44.806Z"
   },
   {
    "duration": 318,
    "start_time": "2021-07-30T17:19:50.400Z"
   },
   {
    "duration": 9,
    "start_time": "2021-07-30T17:20:06.205Z"
   },
   {
    "duration": 5028,
    "start_time": "2021-07-30T17:20:36.567Z"
   },
   {
    "duration": 8,
    "start_time": "2021-07-30T17:20:48.356Z"
   },
   {
    "duration": 8127,
    "start_time": "2021-07-30T17:34:09.769Z"
   },
   {
    "duration": 15,
    "start_time": "2021-07-30T17:35:16.952Z"
   },
   {
    "duration": 4893,
    "start_time": "2021-07-30T17:36:17.816Z"
   },
   {
    "duration": 11,
    "start_time": "2021-07-30T17:36:27.855Z"
   },
   {
    "duration": 4909,
    "start_time": "2021-07-30T17:36:37.579Z"
   },
   {
    "duration": 7401,
    "start_time": "2021-07-30T17:36:55.545Z"
   },
   {
    "duration": 7164,
    "start_time": "2021-07-30T17:37:12.897Z"
   },
   {
    "duration": 7440,
    "start_time": "2021-07-30T17:37:43.540Z"
   },
   {
    "duration": 9,
    "start_time": "2021-07-30T17:38:01.631Z"
   },
   {
    "duration": 6957,
    "start_time": "2021-07-30T17:44:12.677Z"
   },
   {
    "duration": 913,
    "start_time": "2021-07-30T18:01:39.665Z"
   },
   {
    "duration": 250,
    "start_time": "2021-07-30T18:01:40.581Z"
   },
   {
    "duration": 233,
    "start_time": "2021-07-30T18:01:40.839Z"
   },
   {
    "duration": 154,
    "start_time": "2021-07-30T18:01:41.075Z"
   },
   {
    "duration": 35,
    "start_time": "2021-07-30T18:01:41.232Z"
   },
   {
    "duration": 55,
    "start_time": "2021-07-30T18:01:41.284Z"
   },
   {
    "duration": 83286,
    "start_time": "2021-07-30T18:01:41.342Z"
   },
   {
    "duration": 20,
    "start_time": "2021-07-30T18:03:04.631Z"
   },
   {
    "duration": 277,
    "start_time": "2021-07-30T18:03:04.654Z"
   },
   {
    "duration": 55,
    "start_time": "2021-07-30T18:03:04.933Z"
   },
   {
    "duration": 56,
    "start_time": "2021-07-30T18:03:04.991Z"
   },
   {
    "duration": 116,
    "start_time": "2021-07-30T18:03:05.050Z"
   },
   {
    "duration": 120,
    "start_time": "2021-07-30T18:04:00.739Z"
   },
   {
    "duration": 8409,
    "start_time": "2021-07-30T18:04:12.448Z"
   },
   {
    "duration": 4722,
    "start_time": "2021-07-30T18:07:22.938Z"
   },
   {
    "duration": 4751,
    "start_time": "2021-07-30T18:09:16.009Z"
   },
   {
    "duration": 4946,
    "start_time": "2021-07-30T18:09:50.102Z"
   },
   {
    "duration": 10,
    "start_time": "2021-07-30T18:11:43.176Z"
   },
   {
    "duration": 12,
    "start_time": "2021-07-30T18:12:28.437Z"
   },
   {
    "duration": 12,
    "start_time": "2021-07-30T18:13:15.201Z"
   },
   {
    "duration": 15,
    "start_time": "2021-07-30T18:13:41.764Z"
   },
   {
    "duration": 4507,
    "start_time": "2021-07-30T18:14:00.643Z"
   },
   {
    "duration": 21,
    "start_time": "2021-07-30T18:15:32.391Z"
   },
   {
    "duration": 32,
    "start_time": "2021-07-30T18:16:31.965Z"
   },
   {
    "duration": 22,
    "start_time": "2021-07-30T18:18:06.849Z"
   },
   {
    "duration": 25,
    "start_time": "2021-07-30T18:18:27.091Z"
   },
   {
    "duration": 4691,
    "start_time": "2021-07-30T18:19:06.117Z"
   },
   {
    "duration": 4699,
    "start_time": "2021-07-30T18:19:24.858Z"
   },
   {
    "duration": 4778,
    "start_time": "2021-07-30T18:19:36.773Z"
   },
   {
    "duration": 6449,
    "start_time": "2021-07-30T18:20:10.574Z"
   },
   {
    "duration": 11,
    "start_time": "2021-07-30T18:20:44.047Z"
   },
   {
    "duration": 32,
    "start_time": "2021-07-30T18:21:20.533Z"
   },
   {
    "duration": 317,
    "start_time": "2021-07-30T18:21:56.450Z"
   },
   {
    "duration": 18,
    "start_time": "2021-07-30T18:22:53.780Z"
   },
   {
    "duration": 18,
    "start_time": "2021-07-30T18:23:00.247Z"
   },
   {
    "duration": 18,
    "start_time": "2021-07-30T18:23:14.332Z"
   },
   {
    "duration": 18,
    "start_time": "2021-07-30T18:23:19.317Z"
   },
   {
    "duration": 12,
    "start_time": "2021-07-30T18:23:24.475Z"
   },
   {
    "duration": 20,
    "start_time": "2021-07-30T18:23:41.123Z"
   },
   {
    "duration": 312,
    "start_time": "2021-07-30T18:24:11.746Z"
   },
   {
    "duration": 510,
    "start_time": "2021-07-30T18:24:48.757Z"
   },
   {
    "duration": 319,
    "start_time": "2021-07-30T18:25:33.429Z"
   },
   {
    "duration": 19,
    "start_time": "2021-07-30T18:26:11.959Z"
   },
   {
    "duration": 4432,
    "start_time": "2021-07-30T18:26:23.975Z"
   },
   {
    "duration": 25,
    "start_time": "2021-07-30T18:26:42.972Z"
   },
   {
    "duration": 4515,
    "start_time": "2021-07-30T18:27:04.739Z"
   },
   {
    "duration": 7320,
    "start_time": "2021-07-30T18:27:30.660Z"
   },
   {
    "duration": 7972,
    "start_time": "2021-07-30T18:27:43.245Z"
   },
   {
    "duration": 7559,
    "start_time": "2021-07-30T18:28:19.258Z"
   },
   {
    "duration": 7070,
    "start_time": "2021-07-30T18:29:25.178Z"
   },
   {
    "duration": 8315,
    "start_time": "2021-07-30T18:30:34.187Z"
   },
   {
    "duration": 7268,
    "start_time": "2021-07-30T18:30:52.736Z"
   },
   {
    "duration": 17,
    "start_time": "2021-07-30T18:31:05.008Z"
   },
   {
    "duration": 16,
    "start_time": "2021-07-30T18:31:37.732Z"
   },
   {
    "duration": 304,
    "start_time": "2021-07-30T18:32:06.521Z"
   },
   {
    "duration": 300,
    "start_time": "2021-07-30T18:32:27.282Z"
   },
   {
    "duration": 327,
    "start_time": "2021-07-30T18:32:41.370Z"
   },
   {
    "duration": 16,
    "start_time": "2021-07-30T18:37:33.225Z"
   },
   {
    "duration": 5259,
    "start_time": "2021-07-30T18:38:01.061Z"
   },
   {
    "duration": 7596,
    "start_time": "2021-07-30T18:38:08.643Z"
   },
   {
    "duration": 19,
    "start_time": "2021-07-30T18:38:34.414Z"
   },
   {
    "duration": 17,
    "start_time": "2021-07-30T18:44:54.949Z"
   },
   {
    "duration": 7703,
    "start_time": "2021-07-30T18:45:03.236Z"
   },
   {
    "duration": 37,
    "start_time": "2021-07-30T18:45:19.837Z"
   },
   {
    "duration": 26,
    "start_time": "2021-07-30T18:46:06.176Z"
   },
   {
    "duration": 21,
    "start_time": "2021-07-30T18:47:51.323Z"
   },
   {
    "duration": 4884,
    "start_time": "2021-07-30T18:48:03.042Z"
   },
   {
    "duration": 30,
    "start_time": "2021-07-30T18:49:06.906Z"
   },
   {
    "duration": 26,
    "start_time": "2021-07-30T18:50:03.778Z"
   },
   {
    "duration": 24,
    "start_time": "2021-07-30T18:50:13.021Z"
   },
   {
    "duration": 40,
    "start_time": "2021-07-30T18:50:50.388Z"
   },
   {
    "duration": 8001,
    "start_time": "2021-07-30T18:51:19.505Z"
   },
   {
    "duration": 32,
    "start_time": "2021-07-30T18:51:39.671Z"
   },
   {
    "duration": 28,
    "start_time": "2021-07-30T18:51:51.731Z"
   },
   {
    "duration": 26,
    "start_time": "2021-07-30T18:54:00.321Z"
   },
   {
    "duration": 31,
    "start_time": "2021-07-30T18:55:29.679Z"
   },
   {
    "duration": 31,
    "start_time": "2021-07-30T18:55:38.182Z"
   },
   {
    "duration": 30,
    "start_time": "2021-07-30T18:55:46.194Z"
   },
   {
    "duration": 7308,
    "start_time": "2021-07-30T18:55:51.336Z"
   },
   {
    "duration": 18,
    "start_time": "2021-07-30T18:57:42.035Z"
   },
   {
    "duration": 18,
    "start_time": "2021-07-30T18:58:14.060Z"
   },
   {
    "duration": 20,
    "start_time": "2021-07-30T18:58:21.822Z"
   },
   {
    "duration": 28,
    "start_time": "2021-07-30T18:59:46.983Z"
   },
   {
    "duration": 19,
    "start_time": "2021-07-30T18:59:53.543Z"
   },
   {
    "duration": 24,
    "start_time": "2021-07-30T19:00:02.871Z"
   },
   {
    "duration": 22,
    "start_time": "2021-07-30T19:00:36.408Z"
   },
   {
    "duration": 30,
    "start_time": "2021-07-30T19:03:29.089Z"
   },
   {
    "duration": 36,
    "start_time": "2021-07-30T19:03:38.177Z"
   },
   {
    "duration": 1764,
    "start_time": "2021-07-30T19:05:33.638Z"
   },
   {
    "duration": 24,
    "start_time": "2021-07-30T19:06:51.846Z"
   },
   {
    "duration": 22,
    "start_time": "2021-07-30T19:06:58.413Z"
   },
   {
    "duration": 24,
    "start_time": "2021-07-30T19:07:02.512Z"
   },
   {
    "duration": 16,
    "start_time": "2021-07-30T19:09:08.462Z"
   },
   {
    "duration": 537,
    "start_time": "2021-07-30T19:10:19.318Z"
   },
   {
    "duration": 540,
    "start_time": "2021-07-30T19:11:24.755Z"
   },
   {
    "duration": 23,
    "start_time": "2021-07-30T19:12:29.824Z"
   },
   {
    "duration": 22,
    "start_time": "2021-07-30T19:12:59.650Z"
   },
   {
    "duration": 23,
    "start_time": "2021-07-30T19:13:21.896Z"
   },
   {
    "duration": 29,
    "start_time": "2021-07-30T19:13:34.581Z"
   },
   {
    "duration": 1745,
    "start_time": "2021-07-30T19:15:29.653Z"
   },
   {
    "duration": 23546,
    "start_time": "2021-07-30T19:16:06.642Z"
   },
   {
    "duration": 8807,
    "start_time": "2021-07-30T19:17:23.592Z"
   },
   {
    "duration": 7433,
    "start_time": "2021-07-30T19:19:32.723Z"
   },
   {
    "duration": 22081,
    "start_time": "2021-07-30T19:20:33.699Z"
   },
   {
    "duration": 22,
    "start_time": "2021-07-30T20:32:24.598Z"
   },
   {
    "duration": 33,
    "start_time": "2021-07-30T20:32:41.132Z"
   },
   {
    "duration": 307,
    "start_time": "2021-07-30T20:54:38.560Z"
   },
   {
    "duration": 103,
    "start_time": "2021-07-30T21:01:16.080Z"
   },
   {
    "duration": 371,
    "start_time": "2021-07-30T21:01:38.732Z"
   },
   {
    "duration": 7964,
    "start_time": "2021-07-30T21:04:02.349Z"
   },
   {
    "duration": 8046,
    "start_time": "2021-07-30T21:04:16.168Z"
   },
   {
    "duration": 7855,
    "start_time": "2021-07-30T21:04:29.464Z"
   },
   {
    "duration": 7744,
    "start_time": "2021-07-30T21:04:44.074Z"
   },
   {
    "duration": 53,
    "start_time": "2021-07-30T21:08:54.086Z"
   },
   {
    "duration": 1361,
    "start_time": "2021-07-31T08:46:37.044Z"
   },
   {
    "duration": 243,
    "start_time": "2021-07-31T08:46:38.407Z"
   },
   {
    "duration": 207,
    "start_time": "2021-07-31T08:46:38.666Z"
   },
   {
    "duration": 151,
    "start_time": "2021-07-31T08:46:38.877Z"
   },
   {
    "duration": 45,
    "start_time": "2021-07-31T08:46:39.031Z"
   },
   {
    "duration": 63,
    "start_time": "2021-07-31T08:46:39.079Z"
   },
   {
    "duration": 90245,
    "start_time": "2021-07-31T08:46:39.145Z"
   },
   {
    "duration": 18,
    "start_time": "2021-07-31T08:48:09.393Z"
   },
   {
    "duration": 281,
    "start_time": "2021-07-31T08:48:09.413Z"
   },
   {
    "duration": 39,
    "start_time": "2021-07-31T08:48:09.696Z"
   },
   {
    "duration": 74,
    "start_time": "2021-07-31T08:48:09.737Z"
   },
   {
    "duration": 10966,
    "start_time": "2021-07-31T08:48:09.813Z"
   },
   {
    "duration": 17,
    "start_time": "2021-07-31T08:48:20.782Z"
   },
   {
    "duration": 492,
    "start_time": "2021-07-31T08:48:20.802Z"
   },
   {
    "duration": 12091,
    "start_time": "2021-07-31T08:50:34.961Z"
   },
   {
    "duration": 369,
    "start_time": "2021-07-31T08:51:18.586Z"
   },
   {
    "duration": 473,
    "start_time": "2021-07-31T08:51:48.638Z"
   },
   {
    "duration": 682,
    "start_time": "2021-07-31T09:01:30.097Z"
   },
   {
    "duration": 716,
    "start_time": "2021-07-31T09:05:04.843Z"
   },
   {
    "duration": 513,
    "start_time": "2021-07-31T09:05:38.690Z"
   },
   {
    "duration": 952,
    "start_time": "2021-07-31T09:05:54.365Z"
   },
   {
    "duration": 1068,
    "start_time": "2021-07-31T09:12:19.925Z"
   },
   {
    "duration": 1092,
    "start_time": "2021-07-31T09:13:19.312Z"
   },
   {
    "duration": 1024,
    "start_time": "2021-07-31T09:13:37.761Z"
   },
   {
    "duration": 744,
    "start_time": "2021-07-31T09:15:24.133Z"
   },
   {
    "duration": 720,
    "start_time": "2021-07-31T09:15:39.570Z"
   },
   {
    "duration": 720,
    "start_time": "2021-07-31T09:37:09.759Z"
   },
   {
    "duration": 971,
    "start_time": "2021-07-31T09:37:14.344Z"
   },
   {
    "duration": 957,
    "start_time": "2021-07-31T09:44:45.189Z"
   },
   {
    "duration": 681,
    "start_time": "2021-07-31T09:45:09.609Z"
   },
   {
    "duration": 774,
    "start_time": "2021-07-31T09:45:36.198Z"
   },
   {
    "duration": 717,
    "start_time": "2021-07-31T09:48:00.254Z"
   },
   {
    "duration": 669,
    "start_time": "2021-07-31T09:48:14.568Z"
   },
   {
    "duration": 1361,
    "start_time": "2021-07-31T09:49:51.575Z"
   },
   {
    "duration": 20,
    "start_time": "2021-07-31T09:55:23.624Z"
   },
   {
    "duration": 334,
    "start_time": "2021-07-31T09:56:25.760Z"
   },
   {
    "duration": 5353,
    "start_time": "2021-07-31T09:56:57.867Z"
   },
   {
    "duration": 91,
    "start_time": "2021-07-31T10:03:17.922Z"
   },
   {
    "duration": 33,
    "start_time": "2021-07-31T10:03:22.158Z"
   },
   {
    "duration": 308,
    "start_time": "2021-07-31T10:03:44.296Z"
   },
   {
    "duration": 291,
    "start_time": "2021-07-31T10:03:58.949Z"
   },
   {
    "duration": 25,
    "start_time": "2021-07-31T10:04:13.227Z"
   },
   {
    "duration": 292,
    "start_time": "2021-07-31T10:07:22.899Z"
   },
   {
    "duration": 306,
    "start_time": "2021-07-31T10:07:34.894Z"
   },
   {
    "duration": 6124,
    "start_time": "2021-07-31T10:07:59.125Z"
   },
   {
    "duration": 102,
    "start_time": "2021-07-31T10:09:52.177Z"
   },
   {
    "duration": 609,
    "start_time": "2021-07-31T10:10:02.144Z"
   },
   {
    "duration": 739,
    "start_time": "2021-07-31T10:10:15.183Z"
   },
   {
    "duration": 673,
    "start_time": "2021-07-31T10:11:11.439Z"
   },
   {
    "duration": 132,
    "start_time": "2021-07-31T10:13:41.662Z"
   },
   {
    "duration": 826,
    "start_time": "2021-07-31T10:13:53.734Z"
   },
   {
    "duration": 710,
    "start_time": "2021-07-31T10:14:26.763Z"
   },
   {
    "duration": 21011,
    "start_time": "2021-07-31T13:44:07.058Z"
   },
   {
    "duration": 301,
    "start_time": "2021-07-31T18:13:39.547Z"
   },
   {
    "duration": 5,
    "start_time": "2021-07-31T18:15:12.330Z"
   },
   {
    "duration": 700,
    "start_time": "2021-07-31T18:15:29.209Z"
   },
   {
    "duration": 797,
    "start_time": "2021-07-31T18:16:58.548Z"
   },
   {
    "duration": 932,
    "start_time": "2021-07-31T18:23:49.148Z"
   },
   {
    "duration": 306,
    "start_time": "2021-07-31T18:29:46.437Z"
   },
   {
    "duration": 7,
    "start_time": "2021-07-31T18:30:01.850Z"
   },
   {
    "duration": 741,
    "start_time": "2021-07-31T18:30:15.191Z"
   },
   {
    "duration": 1310,
    "start_time": "2021-08-01T12:57:26.092Z"
   },
   {
    "duration": 231,
    "start_time": "2021-08-01T12:57:27.405Z"
   },
   {
    "duration": 205,
    "start_time": "2021-08-01T12:57:27.639Z"
   },
   {
    "duration": 138,
    "start_time": "2021-08-01T12:57:27.847Z"
   },
   {
    "duration": 32,
    "start_time": "2021-08-01T12:57:27.987Z"
   },
   {
    "duration": 53,
    "start_time": "2021-08-01T12:57:28.021Z"
   },
   {
    "duration": 82893,
    "start_time": "2021-08-01T12:57:28.077Z"
   },
   {
    "duration": 18,
    "start_time": "2021-08-01T12:58:50.974Z"
   },
   {
    "duration": 261,
    "start_time": "2021-08-01T12:58:50.995Z"
   },
   {
    "duration": 41,
    "start_time": "2021-08-01T12:58:51.258Z"
   },
   {
    "duration": 81,
    "start_time": "2021-08-01T12:58:51.302Z"
   },
   {
    "duration": 20316,
    "start_time": "2021-08-01T12:58:51.386Z"
   },
   {
    "duration": 10878,
    "start_time": "2021-08-01T12:59:11.705Z"
   },
   {
    "duration": 401,
    "start_time": "2021-08-01T12:59:22.586Z"
   },
   {
    "duration": -553,
    "start_time": "2021-08-01T12:59:23.542Z"
   },
   {
    "duration": -560,
    "start_time": "2021-08-01T12:59:23.551Z"
   },
   {
    "duration": 714,
    "start_time": "2021-08-01T13:01:38.107Z"
   },
   {
    "duration": 692,
    "start_time": "2021-08-01T13:02:05.458Z"
   },
   {
    "duration": 764,
    "start_time": "2021-08-01T13:02:48.745Z"
   },
   {
    "duration": 690,
    "start_time": "2021-08-01T13:05:40.175Z"
   },
   {
    "duration": 693,
    "start_time": "2021-08-01T13:05:57.140Z"
   },
   {
    "duration": 690,
    "start_time": "2021-08-01T13:06:24.648Z"
   },
   {
    "duration": 823,
    "start_time": "2021-08-01T13:06:38.448Z"
   },
   {
    "duration": 688,
    "start_time": "2021-08-01T13:07:44.925Z"
   },
   {
    "duration": 766,
    "start_time": "2021-08-01T13:08:45.616Z"
   },
   {
    "duration": 714,
    "start_time": "2021-08-01T13:20:06.034Z"
   },
   {
    "duration": 783,
    "start_time": "2021-08-01T13:20:23.730Z"
   },
   {
    "duration": 709,
    "start_time": "2021-08-01T13:20:55.944Z"
   },
   {
    "duration": 725,
    "start_time": "2021-08-01T13:21:06.857Z"
   },
   {
    "duration": 816,
    "start_time": "2021-08-01T13:22:16.103Z"
   },
   {
    "duration": 753,
    "start_time": "2021-08-01T13:49:17.584Z"
   },
   {
    "duration": 737,
    "start_time": "2021-08-01T13:50:12.165Z"
   },
   {
    "duration": 754,
    "start_time": "2021-08-01T13:51:00.292Z"
   },
   {
    "duration": 713,
    "start_time": "2021-08-01T13:54:39.699Z"
   },
   {
    "duration": 828,
    "start_time": "2021-08-01T13:58:53.252Z"
   },
   {
    "duration": 890,
    "start_time": "2021-08-01T14:00:14.483Z"
   },
   {
    "duration": 710,
    "start_time": "2021-08-01T14:04:01.778Z"
   },
   {
    "duration": 26,
    "start_time": "2021-08-01T15:51:31.400Z"
   },
   {
    "duration": 27,
    "start_time": "2021-08-01T15:52:05.838Z"
   },
   {
    "duration": 12,
    "start_time": "2021-08-01T17:25:47.906Z"
   },
   {
    "duration": 12,
    "start_time": "2021-08-01T17:26:47.484Z"
   },
   {
    "duration": 15,
    "start_time": "2021-08-01T17:27:18.329Z"
   },
   {
    "duration": 21,
    "start_time": "2021-08-01T17:27:54.219Z"
   },
   {
    "duration": 1361,
    "start_time": "2021-08-01T17:28:16.650Z"
   },
   {
    "duration": 243,
    "start_time": "2021-08-01T17:28:18.014Z"
   },
   {
    "duration": 200,
    "start_time": "2021-08-01T17:28:18.260Z"
   },
   {
    "duration": 157,
    "start_time": "2021-08-01T17:28:18.464Z"
   },
   {
    "duration": 44,
    "start_time": "2021-08-01T17:28:18.624Z"
   },
   {
    "duration": 65,
    "start_time": "2021-08-01T17:28:18.670Z"
   },
   {
    "duration": 84608,
    "start_time": "2021-08-01T17:28:18.737Z"
   },
   {
    "duration": 20,
    "start_time": "2021-08-01T17:29:43.348Z"
   },
   {
    "duration": 293,
    "start_time": "2021-08-01T17:29:43.371Z"
   },
   {
    "duration": 42,
    "start_time": "2021-08-01T17:29:43.666Z"
   },
   {
    "duration": 65,
    "start_time": "2021-08-01T17:29:43.710Z"
   },
   {
    "duration": 20417,
    "start_time": "2021-08-01T17:29:43.777Z"
   },
   {
    "duration": 11303,
    "start_time": "2021-08-01T17:30:04.196Z"
   },
   {
    "duration": 11,
    "start_time": "2021-08-01T17:30:15.503Z"
   },
   {
    "duration": 708,
    "start_time": "2021-08-01T17:30:15.518Z"
   },
   {
    "duration": 42,
    "start_time": "2021-08-01T17:30:16.229Z"
   },
   {
    "duration": 702,
    "start_time": "2021-08-01T17:30:16.274Z"
   },
   {
    "duration": 26,
    "start_time": "2021-08-01T17:30:16.979Z"
   },
   {
    "duration": 3,
    "start_time": "2021-08-01T17:30:17.007Z"
   },
   {
    "duration": 886,
    "start_time": "2021-08-01T17:30:17.012Z"
   },
   {
    "duration": 28,
    "start_time": "2021-08-01T17:30:17.901Z"
   },
   {
    "duration": 37,
    "start_time": "2021-08-01T17:30:17.932Z"
   },
   {
    "duration": 15,
    "start_time": "2021-08-01T17:31:17.747Z"
   },
   {
    "duration": 16,
    "start_time": "2021-08-01T17:31:45.901Z"
   },
   {
    "duration": 22,
    "start_time": "2021-08-01T17:32:13.763Z"
   },
   {
    "duration": 31,
    "start_time": "2021-08-01T17:32:27.947Z"
   },
   {
    "duration": 14,
    "start_time": "2021-08-01T17:33:46.032Z"
   },
   {
    "duration": 14,
    "start_time": "2021-08-01T17:37:06.935Z"
   },
   {
    "duration": 14,
    "start_time": "2021-08-01T18:04:14.145Z"
   },
   {
    "duration": 18,
    "start_time": "2021-08-01T18:10:08.816Z"
   },
   {
    "duration": 20,
    "start_time": "2021-08-01T18:13:18.360Z"
   },
   {
    "duration": 22,
    "start_time": "2021-08-01T18:13:40.148Z"
   },
   {
    "duration": 25,
    "start_time": "2021-08-01T18:18:33.207Z"
   },
   {
    "duration": 96,
    "start_time": "2021-08-01T18:19:43.808Z"
   },
   {
    "duration": 94,
    "start_time": "2021-08-01T18:20:10.350Z"
   },
   {
    "duration": 128,
    "start_time": "2021-08-01T18:20:22.120Z"
   },
   {
    "duration": 95,
    "start_time": "2021-08-01T18:20:58.822Z"
   },
   {
    "duration": 121,
    "start_time": "2021-08-01T18:21:10.433Z"
   },
   {
    "duration": 31,
    "start_time": "2021-08-01T18:21:34.752Z"
   },
   {
    "duration": 37,
    "start_time": "2021-08-01T18:21:43.124Z"
   },
   {
    "duration": 31,
    "start_time": "2021-08-01T18:22:02.029Z"
   },
   {
    "duration": 31,
    "start_time": "2021-08-01T18:22:08.001Z"
   },
   {
    "duration": 33,
    "start_time": "2021-08-01T18:22:21.472Z"
   },
   {
    "duration": 31,
    "start_time": "2021-08-01T18:27:26.703Z"
   },
   {
    "duration": 34,
    "start_time": "2021-08-01T18:36:55.791Z"
   },
   {
    "duration": 31,
    "start_time": "2021-08-01T18:37:47.812Z"
   },
   {
    "duration": 15,
    "start_time": "2021-08-01T18:40:53.839Z"
   },
   {
    "duration": 15,
    "start_time": "2021-08-01T18:41:02.138Z"
   },
   {
    "duration": 15,
    "start_time": "2021-08-01T18:41:22.128Z"
   },
   {
    "duration": 34,
    "start_time": "2021-08-01T18:48:26.897Z"
   },
   {
    "duration": 1370,
    "start_time": "2021-08-01T19:41:32.840Z"
   },
   {
    "duration": 251,
    "start_time": "2021-08-01T19:41:34.213Z"
   },
   {
    "duration": 314,
    "start_time": "2021-08-01T19:41:34.469Z"
   },
   {
    "duration": 320,
    "start_time": "2021-08-01T19:41:34.787Z"
   },
   {
    "duration": 55,
    "start_time": "2021-08-01T19:41:35.110Z"
   },
   {
    "duration": 69,
    "start_time": "2021-08-01T19:41:35.168Z"
   },
   {
    "duration": 81497,
    "start_time": "2021-08-01T19:41:35.239Z"
   },
   {
    "duration": 31,
    "start_time": "2021-08-01T19:42:56.741Z"
   },
   {
    "duration": 254,
    "start_time": "2021-08-01T19:42:56.776Z"
   },
   {
    "duration": 51,
    "start_time": "2021-08-01T19:42:57.034Z"
   },
   {
    "duration": 72,
    "start_time": "2021-08-01T19:42:57.088Z"
   },
   {
    "duration": 20234,
    "start_time": "2021-08-01T19:42:57.163Z"
   },
   {
    "duration": 11305,
    "start_time": "2021-08-01T19:43:17.400Z"
   },
   {
    "duration": 11,
    "start_time": "2021-08-01T19:43:28.707Z"
   },
   {
    "duration": 749,
    "start_time": "2021-08-01T19:43:28.721Z"
   },
   {
    "duration": 29,
    "start_time": "2021-08-01T19:43:29.474Z"
   },
   {
    "duration": 696,
    "start_time": "2021-08-01T19:43:29.506Z"
   },
   {
    "duration": 49,
    "start_time": "2021-08-01T19:43:30.206Z"
   },
   {
    "duration": 759,
    "start_time": "2021-08-01T19:43:30.257Z"
   },
   {
    "duration": 41,
    "start_time": "2021-08-01T19:43:31.019Z"
   },
   {
    "duration": 14,
    "start_time": "2021-08-01T19:43:31.063Z"
   },
   {
    "duration": 51,
    "start_time": "2021-08-01T19:43:31.079Z"
   },
   {
    "duration": 31,
    "start_time": "2021-08-01T19:43:31.135Z"
   },
   {
    "duration": 51,
    "start_time": "2021-08-01T19:43:31.169Z"
   },
   {
    "duration": 1004,
    "start_time": "2021-08-02T10:41:03.559Z"
   },
   {
    "duration": 177,
    "start_time": "2021-08-02T10:41:04.565Z"
   },
   {
    "duration": 144,
    "start_time": "2021-08-02T10:41:04.743Z"
   },
   {
    "duration": 98,
    "start_time": "2021-08-02T10:41:04.888Z"
   },
   {
    "duration": 25,
    "start_time": "2021-08-02T10:41:04.988Z"
   },
   {
    "duration": 73,
    "start_time": "2021-08-02T10:41:05.015Z"
   },
   {
    "duration": 40582,
    "start_time": "2021-08-02T10:41:05.089Z"
   },
   {
    "duration": 21,
    "start_time": "2021-08-02T10:41:45.673Z"
   },
   {
    "duration": 162,
    "start_time": "2021-08-02T10:41:45.697Z"
   },
   {
    "duration": 42,
    "start_time": "2021-08-02T10:41:45.861Z"
   },
   {
    "duration": 36,
    "start_time": "2021-08-02T10:41:45.905Z"
   },
   {
    "duration": 11435,
    "start_time": "2021-08-02T10:41:45.943Z"
   },
   {
    "duration": 6190,
    "start_time": "2021-08-02T10:41:57.380Z"
   },
   {
    "duration": 15,
    "start_time": "2021-08-02T10:42:03.572Z"
   },
   {
    "duration": 412,
    "start_time": "2021-08-02T10:42:03.588Z"
   },
   {
    "duration": 18,
    "start_time": "2021-08-02T10:42:04.002Z"
   },
   {
    "duration": 422,
    "start_time": "2021-08-02T10:42:04.021Z"
   },
   {
    "duration": 18,
    "start_time": "2021-08-02T10:42:04.444Z"
   },
   {
    "duration": 485,
    "start_time": "2021-08-02T10:42:04.464Z"
   },
   {
    "duration": 18,
    "start_time": "2021-08-02T10:42:04.951Z"
   },
   {
    "duration": 20,
    "start_time": "2021-08-02T10:42:04.970Z"
   },
   {
    "duration": 23,
    "start_time": "2021-08-02T10:42:04.991Z"
   },
   {
    "duration": 8,
    "start_time": "2021-08-02T10:42:05.017Z"
   },
   {
    "duration": 21,
    "start_time": "2021-08-02T10:42:05.027Z"
   },
   {
    "duration": 132,
    "start_time": "2021-08-02T10:55:04.205Z"
   },
   {
    "duration": 245,
    "start_time": "2021-08-02T10:55:13.723Z"
   },
   {
    "duration": 152,
    "start_time": "2021-08-02T10:55:21.634Z"
   },
   {
    "duration": 9,
    "start_time": "2021-08-02T11:02:57.959Z"
   },
   {
    "duration": 6,
    "start_time": "2021-08-02T11:04:00.965Z"
   },
   {
    "duration": 21,
    "start_time": "2021-08-02T11:10:15.729Z"
   },
   {
    "duration": 6,
    "start_time": "2021-08-02T11:19:46.328Z"
   },
   {
    "duration": 12,
    "start_time": "2021-08-02T11:24:51.779Z"
   },
   {
    "duration": 14,
    "start_time": "2021-08-02T11:24:57.702Z"
   },
   {
    "duration": 375,
    "start_time": "2021-08-02T14:58:06.953Z"
   },
   {
    "duration": 1323,
    "start_time": "2021-08-02T14:58:34.005Z"
   },
   {
    "duration": 246,
    "start_time": "2021-08-02T14:58:35.330Z"
   },
   {
    "duration": 204,
    "start_time": "2021-08-02T14:58:35.579Z"
   },
   {
    "duration": 150,
    "start_time": "2021-08-02T14:58:35.786Z"
   },
   {
    "duration": 35,
    "start_time": "2021-08-02T14:58:35.938Z"
   },
   {
    "duration": 66,
    "start_time": "2021-08-02T14:58:35.976Z"
   },
   {
    "duration": 86078,
    "start_time": "2021-08-02T14:58:36.044Z"
   },
   {
    "duration": 30,
    "start_time": "2021-08-02T15:00:02.126Z"
   },
   {
    "duration": 216,
    "start_time": "2021-08-02T15:00:02.160Z"
   },
   {
    "duration": 44,
    "start_time": "2021-08-02T15:00:02.378Z"
   },
   {
    "duration": 750,
    "start_time": "2021-08-02T15:00:02.424Z"
   },
   {
    "duration": -523,
    "start_time": "2021-08-02T15:00:03.701Z"
   },
   {
    "duration": -526,
    "start_time": "2021-08-02T15:00:03.706Z"
   },
   {
    "duration": -530,
    "start_time": "2021-08-02T15:00:03.711Z"
   },
   {
    "duration": -532,
    "start_time": "2021-08-02T15:00:03.715Z"
   },
   {
    "duration": -535,
    "start_time": "2021-08-02T15:00:03.719Z"
   },
   {
    "duration": -538,
    "start_time": "2021-08-02T15:00:03.723Z"
   },
   {
    "duration": -540,
    "start_time": "2021-08-02T15:00:03.727Z"
   },
   {
    "duration": -543,
    "start_time": "2021-08-02T15:00:03.731Z"
   },
   {
    "duration": -544,
    "start_time": "2021-08-02T15:00:03.734Z"
   },
   {
    "duration": -547,
    "start_time": "2021-08-02T15:00:03.739Z"
   },
   {
    "duration": -551,
    "start_time": "2021-08-02T15:00:03.744Z"
   },
   {
    "duration": -552,
    "start_time": "2021-08-02T15:00:03.747Z"
   },
   {
    "duration": -554,
    "start_time": "2021-08-02T15:00:03.751Z"
   },
   {
    "duration": 55,
    "start_time": "2021-08-02T15:03:42.670Z"
   },
   {
    "duration": 1376,
    "start_time": "2021-08-02T15:06:30.740Z"
   },
   {
    "duration": 244,
    "start_time": "2021-08-02T15:06:32.119Z"
   },
   {
    "duration": 204,
    "start_time": "2021-08-02T15:06:32.366Z"
   },
   {
    "duration": 150,
    "start_time": "2021-08-02T15:06:32.573Z"
   },
   {
    "duration": 39,
    "start_time": "2021-08-02T15:06:32.725Z"
   },
   {
    "duration": 65,
    "start_time": "2021-08-02T15:06:32.767Z"
   },
   {
    "duration": 82656,
    "start_time": "2021-08-02T15:06:32.835Z"
   },
   {
    "duration": 17,
    "start_time": "2021-08-02T15:07:55.495Z"
   },
   {
    "duration": 216,
    "start_time": "2021-08-02T15:07:55.515Z"
   },
   {
    "duration": 50,
    "start_time": "2021-08-02T15:07:55.733Z"
   },
   {
    "duration": 68,
    "start_time": "2021-08-02T15:07:55.786Z"
   },
   {
    "duration": 20603,
    "start_time": "2021-08-02T15:07:55.857Z"
   },
   {
    "duration": 11229,
    "start_time": "2021-08-02T15:08:16.463Z"
   },
   {
    "duration": 10,
    "start_time": "2021-08-02T15:08:27.694Z"
   },
   {
    "duration": 811,
    "start_time": "2021-08-02T15:08:27.707Z"
   },
   {
    "duration": 44,
    "start_time": "2021-08-02T15:08:28.521Z"
   },
   {
    "duration": 706,
    "start_time": "2021-08-02T15:08:28.567Z"
   },
   {
    "duration": 27,
    "start_time": "2021-08-02T15:08:29.276Z"
   },
   {
    "duration": 798,
    "start_time": "2021-08-02T15:08:29.309Z"
   },
   {
    "duration": 27,
    "start_time": "2021-08-02T15:08:30.110Z"
   },
   {
    "duration": 14,
    "start_time": "2021-08-02T15:08:30.159Z"
   },
   {
    "duration": 37,
    "start_time": "2021-08-02T15:08:30.175Z"
   },
   {
    "duration": 43,
    "start_time": "2021-08-02T15:08:30.216Z"
   },
   {
    "duration": 45,
    "start_time": "2021-08-02T15:08:30.262Z"
   },
   {
    "duration": 49,
    "start_time": "2021-08-02T18:00:18.391Z"
   },
   {
    "duration": 50,
    "start_time": "2021-08-02T18:00:44.719Z"
   },
   {
    "duration": 50,
    "start_time": "2021-08-02T18:00:47.878Z"
   },
   {
    "duration": 50,
    "start_time": "2021-08-02T18:02:18.041Z"
   },
   {
    "duration": 54,
    "start_time": "2021-08-02T18:02:38.588Z"
   },
   {
    "duration": 1325,
    "start_time": "2021-08-02T18:02:50.176Z"
   },
   {
    "duration": 245,
    "start_time": "2021-08-02T18:02:51.503Z"
   },
   {
    "duration": 201,
    "start_time": "2021-08-02T18:02:51.755Z"
   },
   {
    "duration": 135,
    "start_time": "2021-08-02T18:02:51.959Z"
   },
   {
    "duration": 33,
    "start_time": "2021-08-02T18:02:52.097Z"
   },
   {
    "duration": 66,
    "start_time": "2021-08-02T18:02:52.132Z"
   },
   {
    "duration": 82649,
    "start_time": "2021-08-02T18:02:52.201Z"
   },
   {
    "duration": 18,
    "start_time": "2021-08-02T18:04:14.856Z"
   },
   {
    "duration": 218,
    "start_time": "2021-08-02T18:04:14.878Z"
   },
   {
    "duration": 42,
    "start_time": "2021-08-02T18:04:15.098Z"
   },
   {
    "duration": 56,
    "start_time": "2021-08-02T18:04:15.154Z"
   },
   {
    "duration": 20503,
    "start_time": "2021-08-02T18:04:15.212Z"
   },
   {
    "duration": 11061,
    "start_time": "2021-08-02T18:04:35.717Z"
   },
   {
    "duration": 10,
    "start_time": "2021-08-02T18:04:46.780Z"
   },
   {
    "duration": 683,
    "start_time": "2021-08-02T18:04:46.793Z"
   },
   {
    "duration": 27,
    "start_time": "2021-08-02T18:04:47.479Z"
   },
   {
    "duration": 763,
    "start_time": "2021-08-02T18:04:47.508Z"
   },
   {
    "duration": 27,
    "start_time": "2021-08-02T18:04:48.274Z"
   },
   {
    "duration": 745,
    "start_time": "2021-08-02T18:04:48.303Z"
   },
   {
    "duration": 26,
    "start_time": "2021-08-02T18:04:49.054Z"
   },
   {
    "duration": 18,
    "start_time": "2021-08-02T18:04:49.083Z"
   },
   {
    "duration": 61,
    "start_time": "2021-08-02T18:04:49.103Z"
   },
   {
    "duration": 14,
    "start_time": "2021-08-02T18:04:49.168Z"
   },
   {
    "duration": 48,
    "start_time": "2021-08-02T18:04:49.185Z"
   },
   {
    "duration": 50,
    "start_time": "2021-08-02T18:05:56.630Z"
   },
   {
    "duration": 33,
    "start_time": "2021-08-02T18:11:25.781Z"
   },
   {
    "duration": 36,
    "start_time": "2021-08-02T18:11:34.200Z"
   },
   {
    "duration": 39,
    "start_time": "2021-08-02T18:12:05.091Z"
   },
   {
    "duration": 36,
    "start_time": "2021-08-02T18:13:12.059Z"
   },
   {
    "duration": 11011,
    "start_time": "2021-08-02T18:14:13.295Z"
   },
   {
    "duration": 21,
    "start_time": "2021-08-02T18:17:24.798Z"
   },
   {
    "duration": 21,
    "start_time": "2021-08-02T18:18:47.055Z"
   },
   {
    "duration": 27,
    "start_time": "2021-08-02T18:23:30.462Z"
   },
   {
    "duration": 29,
    "start_time": "2021-08-02T18:23:44.149Z"
   },
   {
    "duration": 29,
    "start_time": "2021-08-02T18:24:03.132Z"
   },
   {
    "duration": 655,
    "start_time": "2021-08-02T18:24:15.904Z"
   },
   {
    "duration": 564,
    "start_time": "2021-08-02T18:24:31.959Z"
   },
   {
    "duration": 596,
    "start_time": "2021-08-02T18:24:47.526Z"
   },
   {
    "duration": 593,
    "start_time": "2021-08-02T18:25:01.413Z"
   },
   {
    "duration": 967,
    "start_time": "2021-08-03T09:51:28.924Z"
   },
   {
    "duration": 160,
    "start_time": "2021-08-03T09:51:29.893Z"
   },
   {
    "duration": 130,
    "start_time": "2021-08-03T09:51:30.057Z"
   },
   {
    "duration": 94,
    "start_time": "2021-08-03T09:51:30.191Z"
   },
   {
    "duration": 23,
    "start_time": "2021-08-03T09:51:30.286Z"
   },
   {
    "duration": 44,
    "start_time": "2021-08-03T09:51:30.311Z"
   },
   {
    "duration": 38214,
    "start_time": "2021-08-03T09:51:30.357Z"
   },
   {
    "duration": 20,
    "start_time": "2021-08-03T09:52:08.573Z"
   },
   {
    "duration": 127,
    "start_time": "2021-08-03T09:52:08.594Z"
   },
   {
    "duration": 26,
    "start_time": "2021-08-03T09:52:08.723Z"
   },
   {
    "duration": 45,
    "start_time": "2021-08-03T09:52:08.750Z"
   },
   {
    "duration": 22,
    "start_time": "2021-08-03T09:52:08.796Z"
   },
   {
    "duration": 95,
    "start_time": "2021-08-03T09:52:08.819Z"
   },
   {
    "duration": -85,
    "start_time": "2021-08-03T09:52:09.001Z"
   },
   {
    "duration": -89,
    "start_time": "2021-08-03T09:52:09.006Z"
   },
   {
    "duration": -91,
    "start_time": "2021-08-03T09:52:09.009Z"
   },
   {
    "duration": -95,
    "start_time": "2021-08-03T09:52:09.014Z"
   },
   {
    "duration": -96,
    "start_time": "2021-08-03T09:52:09.016Z"
   },
   {
    "duration": -98,
    "start_time": "2021-08-03T09:52:09.019Z"
   },
   {
    "duration": -100,
    "start_time": "2021-08-03T09:52:09.022Z"
   },
   {
    "duration": -102,
    "start_time": "2021-08-03T09:52:09.025Z"
   },
   {
    "duration": -104,
    "start_time": "2021-08-03T09:52:09.027Z"
   },
   {
    "duration": -106,
    "start_time": "2021-08-03T09:52:09.030Z"
   },
   {
    "duration": -107,
    "start_time": "2021-08-03T09:52:09.032Z"
   },
   {
    "duration": -109,
    "start_time": "2021-08-03T09:52:09.035Z"
   },
   {
    "duration": 5924,
    "start_time": "2021-08-03T09:52:25.174Z"
   },
   {
    "duration": 6,
    "start_time": "2021-08-03T09:52:31.100Z"
   },
   {
    "duration": 384,
    "start_time": "2021-08-03T09:52:31.107Z"
   },
   {
    "duration": 16,
    "start_time": "2021-08-03T09:52:31.493Z"
   },
   {
    "duration": 361,
    "start_time": "2021-08-03T09:52:31.511Z"
   },
   {
    "duration": 25,
    "start_time": "2021-08-03T09:52:31.874Z"
   },
   {
    "duration": 329,
    "start_time": "2021-08-03T09:52:31.901Z"
   },
   {
    "duration": 16,
    "start_time": "2021-08-03T09:52:32.232Z"
   },
   {
    "duration": 8,
    "start_time": "2021-08-03T09:52:32.250Z"
   },
   {
    "duration": 97,
    "start_time": "2021-08-03T09:52:32.259Z"
   },
   {
    "duration": 8,
    "start_time": "2021-08-03T09:52:32.357Z"
   },
   {
    "duration": 33,
    "start_time": "2021-08-03T09:52:32.367Z"
   },
   {
    "duration": 7,
    "start_time": "2021-08-05T21:30:18.122Z"
   },
   {
    "duration": 1002,
    "start_time": "2021-08-05T21:30:43.230Z"
   },
   {
    "duration": 166,
    "start_time": "2021-08-05T21:30:44.234Z"
   },
   {
    "duration": 144,
    "start_time": "2021-08-05T21:30:44.402Z"
   },
   {
    "duration": 94,
    "start_time": "2021-08-05T21:30:44.548Z"
   },
   {
    "duration": 25,
    "start_time": "2021-08-05T21:30:44.644Z"
   },
   {
    "duration": 39,
    "start_time": "2021-08-05T21:30:44.671Z"
   },
   {
    "duration": 39407,
    "start_time": "2021-08-05T21:30:44.711Z"
   },
   {
    "duration": 12,
    "start_time": "2021-08-05T21:31:24.121Z"
   },
   {
    "duration": 147,
    "start_time": "2021-08-05T21:31:24.135Z"
   },
   {
    "duration": 30,
    "start_time": "2021-08-05T21:31:24.284Z"
   },
   {
    "duration": 32,
    "start_time": "2021-08-05T21:31:24.316Z"
   },
   {
    "duration": 21,
    "start_time": "2021-08-05T21:31:24.350Z"
   },
   {
    "duration": 5897,
    "start_time": "2021-08-05T21:31:24.372Z"
   },
   {
    "duration": 6,
    "start_time": "2021-08-05T21:31:30.271Z"
   },
   {
    "duration": 465,
    "start_time": "2021-08-05T21:31:30.279Z"
   },
   {
    "duration": 17,
    "start_time": "2021-08-05T21:31:30.746Z"
   },
   {
    "duration": 457,
    "start_time": "2021-08-05T21:31:30.765Z"
   },
   {
    "duration": 17,
    "start_time": "2021-08-05T21:31:31.223Z"
   },
   {
    "duration": 399,
    "start_time": "2021-08-05T21:31:31.241Z"
   },
   {
    "duration": 15,
    "start_time": "2021-08-05T21:31:31.641Z"
   },
   {
    "duration": 7,
    "start_time": "2021-08-05T21:31:31.658Z"
   },
   {
    "duration": 110,
    "start_time": "2021-08-05T21:31:31.667Z"
   },
   {
    "duration": 15,
    "start_time": "2021-08-05T21:31:31.780Z"
   },
   {
    "duration": 18,
    "start_time": "2021-08-05T21:31:31.797Z"
   }
  ],
  "kernelspec": {
   "display_name": "Python 3 (ipykernel)",
   "language": "python",
   "name": "python3"
  },
  "language_info": {
   "codemirror_mode": {
    "name": "ipython",
    "version": 3
   },
   "file_extension": ".py",
   "mimetype": "text/x-python",
   "name": "python",
   "nbconvert_exporter": "python",
   "pygments_lexer": "ipython3",
   "version": "3.9.12"
  },
  "toc": {
   "base_numbering": 1,
   "nav_menu": {
    "height": "236px",
    "width": "491px"
   },
   "number_sections": true,
   "sideBar": true,
   "skip_h1_title": true,
   "title_cell": "Table of Contents",
   "title_sidebar": "Contents",
   "toc_cell": false,
   "toc_position": {},
   "toc_section_display": true,
   "toc_window_display": false
  }
 },
 "nbformat": 4,
 "nbformat_minor": 2
}
